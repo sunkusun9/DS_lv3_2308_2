{
 "cells": [
  {
   "cell_type": "markdown",
   "id": "75850728",
   "metadata": {},
   "source": [
    "# 시험장 환경 정보\n",
    "\n",
    "Python: 3.7.4 (tags/v3.7.4:e09359112e, Jul  8 2019, 20:34:20) [MSC v.1916 64 bit (AMD64)]\n",
    "\n",
    "|모듈|버젼|\n",
    "|----|----|\n",
    "|pandas|0.25.1|\n",
    "|numpy|1.18.5|\n",
    "|sklearn|0.21.3|\n",
    "|scipy|1.5.2|\n",
    "|mlxtend|0.15.0.0|\n",
    "|statsmodels|0.11.1|"
   ]
  },
  {
   "cell_type": "code",
   "execution_count": 1,
   "id": "04b1901d",
   "metadata": {},
   "outputs": [
    {
     "name": "stdout",
     "output_type": "stream",
     "text": [
      "3.7.4 (tags/v3.7.4:e09359112e, Jul  8 2019, 20:34:20) [MSC v.1916 64 bit (AMD64)]\n",
      "pandas 0.25.1\n",
      "numpy 1.18.5\n",
      "sklearn 0.21.3\n",
      "scipy 1.5.2\n",
      "mlxtend 0.15.0.0\n",
      "statsmodels 0.11.1\n"
     ]
    }
   ],
   "source": [
    "# 실행 환경 확인\n",
    "\n",
    "import pandas as pd\n",
    "import numpy as np\n",
    "import sklearn\n",
    "import scipy\n",
    "import statsmodels\n",
    "import mlxtend\n",
    "import sys\n",
    "\n",
    "print(sys.version)\n",
    "for i in [pd, np, sklearn, scipy, mlxtend, statsmodels]:\n",
    "    print(i.__name__, i.__version__)"
   ]
  },
  {
   "cell_type": "code",
   "execution_count": 2,
   "id": "b2a5207c",
   "metadata": {},
   "outputs": [],
   "source": [
    "# 시각화 모듈 설정\n",
    "# 참고용 차트를 출력하기 위함\n",
    "\n",
    "import matplotlib.pyplot as plt\n",
    "import seaborn as sns\n",
    "\n",
    "import matplotlib as mpl\n",
    "import matplotlib.font_manager as fm\n",
    "plt.rc('font', family='Malgun Gothic')\n",
    "mpl.rcParams['axes.unicode_minus'] = False"
   ]
  },
  {
   "cell_type": "markdown",
   "id": "2719eb2d",
   "metadata": {},
   "source": [
    "# 문제 개요\n",
    "\n",
    "다음은 폴더블 폰의 힌지에 들어가는 스프링 내구력을 테스트한 실험 결과이다. \n",
    "\n",
    "스프링 측정값과 스프링에 가한 부하 정보와 함께, 테스트 통과/실패 (failure) 결과가 기재되어 있다. \n",
    "\n",
    "개발부서는 테스트 비용을 줄이기 위해 failure 여부를 맞추는 모델을 만들고자 한다.\n",
    "\n",
    "변수명은 보안을 위해 measurement_0과 같이 익명화되었다.\n",
    "\n",
    "데이터 구성\n",
    "\n",
    "학습데이터: train_prob.csv, 21,458 rows, 25 columns\n",
    "\n",
    "테스트데이터: test_prob.csv, 5,112 rows, 24 columns, \n",
    "\n",
    "테스트정답셋: test_prob_ans.csv, 5,112 rows, 1 columns\n",
    "\n",
    "\n",
    "컬럼명\t설명\t타입\n",
    "\n",
    "|변수명|설명|타입|\n",
    "|--|--------------|------|\n",
    "|id|실험 고유 번호|정수형|\n",
    "|product_code|스프링 코드|범주형|\n",
    "|loading|스프링에 가한 부하|실수형|\n",
    "|attribute_0|구성 소재1|범주형|\n",
    "|attribute_1|구성 소재2|범주형|\n",
    "|attribute_2|구성 소재3|정수형|\n",
    "|attribute_3|구성 소재4|정수형|\n",
    "|measurement_0 ~ 17|측정값 0~17|실수형|\n",
    "|failure|성공여부|이진형(0, 1)|\n"
   ]
  },
  {
   "cell_type": "code",
   "execution_count": 27,
   "id": "15ebc269",
   "metadata": {},
   "outputs": [
    {
     "data": {
      "text/html": [
       "<div>\n",
       "<style scoped>\n",
       "    .dataframe tbody tr th:only-of-type {\n",
       "        vertical-align: middle;\n",
       "    }\n",
       "\n",
       "    .dataframe tbody tr th {\n",
       "        vertical-align: top;\n",
       "    }\n",
       "\n",
       "    .dataframe thead th {\n",
       "        text-align: right;\n",
       "    }\n",
       "</style>\n",
       "<table border=\"1\" class=\"dataframe\">\n",
       "  <thead>\n",
       "    <tr style=\"text-align: right;\">\n",
       "      <th></th>\n",
       "      <th>product_code</th>\n",
       "      <th>loading</th>\n",
       "      <th>attribute_0</th>\n",
       "      <th>attribute_1</th>\n",
       "      <th>attribute_2</th>\n",
       "      <th>attribute_3</th>\n",
       "      <th>measurement_0</th>\n",
       "      <th>measurement_1</th>\n",
       "      <th>measurement_2</th>\n",
       "      <th>measurement_3</th>\n",
       "      <th>...</th>\n",
       "      <th>measurement_9</th>\n",
       "      <th>measurement_10</th>\n",
       "      <th>measurement_11</th>\n",
       "      <th>measurement_12</th>\n",
       "      <th>measurement_13</th>\n",
       "      <th>measurement_14</th>\n",
       "      <th>measurement_15</th>\n",
       "      <th>measurement_16</th>\n",
       "      <th>measurement_17</th>\n",
       "      <th>failure</th>\n",
       "    </tr>\n",
       "    <tr>\n",
       "      <th>id</th>\n",
       "      <th></th>\n",
       "      <th></th>\n",
       "      <th></th>\n",
       "      <th></th>\n",
       "      <th></th>\n",
       "      <th></th>\n",
       "      <th></th>\n",
       "      <th></th>\n",
       "      <th></th>\n",
       "      <th></th>\n",
       "      <th></th>\n",
       "      <th></th>\n",
       "      <th></th>\n",
       "      <th></th>\n",
       "      <th></th>\n",
       "      <th></th>\n",
       "      <th></th>\n",
       "      <th></th>\n",
       "      <th></th>\n",
       "      <th></th>\n",
       "      <th></th>\n",
       "    </tr>\n",
       "  </thead>\n",
       "  <tbody>\n",
       "    <tr>\n",
       "      <td>0</td>\n",
       "      <td>A</td>\n",
       "      <td>80.10</td>\n",
       "      <td>material_7</td>\n",
       "      <td>material_8</td>\n",
       "      <td>9</td>\n",
       "      <td>5</td>\n",
       "      <td>7</td>\n",
       "      <td>8</td>\n",
       "      <td>4</td>\n",
       "      <td>18.040</td>\n",
       "      <td>...</td>\n",
       "      <td>10.672</td>\n",
       "      <td>15.859</td>\n",
       "      <td>17.594</td>\n",
       "      <td>15.193</td>\n",
       "      <td>15.029</td>\n",
       "      <td>NaN</td>\n",
       "      <td>13.034</td>\n",
       "      <td>14.684</td>\n",
       "      <td>764.100</td>\n",
       "      <td>0</td>\n",
       "    </tr>\n",
       "    <tr>\n",
       "      <td>1</td>\n",
       "      <td>A</td>\n",
       "      <td>84.89</td>\n",
       "      <td>material_7</td>\n",
       "      <td>material_8</td>\n",
       "      <td>9</td>\n",
       "      <td>5</td>\n",
       "      <td>14</td>\n",
       "      <td>3</td>\n",
       "      <td>3</td>\n",
       "      <td>18.213</td>\n",
       "      <td>...</td>\n",
       "      <td>12.448</td>\n",
       "      <td>17.947</td>\n",
       "      <td>17.915</td>\n",
       "      <td>11.755</td>\n",
       "      <td>14.732</td>\n",
       "      <td>15.425</td>\n",
       "      <td>14.395</td>\n",
       "      <td>15.631</td>\n",
       "      <td>682.057</td>\n",
       "      <td>0</td>\n",
       "    </tr>\n",
       "    <tr>\n",
       "      <td>2</td>\n",
       "      <td>A</td>\n",
       "      <td>82.43</td>\n",
       "      <td>material_7</td>\n",
       "      <td>material_8</td>\n",
       "      <td>9</td>\n",
       "      <td>5</td>\n",
       "      <td>12</td>\n",
       "      <td>1</td>\n",
       "      <td>5</td>\n",
       "      <td>18.057</td>\n",
       "      <td>...</td>\n",
       "      <td>12.715</td>\n",
       "      <td>15.607</td>\n",
       "      <td>NaN</td>\n",
       "      <td>13.798</td>\n",
       "      <td>16.711</td>\n",
       "      <td>18.631</td>\n",
       "      <td>14.094</td>\n",
       "      <td>17.946</td>\n",
       "      <td>663.376</td>\n",
       "      <td>0</td>\n",
       "    </tr>\n",
       "    <tr>\n",
       "      <td>3</td>\n",
       "      <td>A</td>\n",
       "      <td>101.07</td>\n",
       "      <td>material_7</td>\n",
       "      <td>material_8</td>\n",
       "      <td>9</td>\n",
       "      <td>5</td>\n",
       "      <td>13</td>\n",
       "      <td>2</td>\n",
       "      <td>6</td>\n",
       "      <td>17.295</td>\n",
       "      <td>...</td>\n",
       "      <td>12.471</td>\n",
       "      <td>16.346</td>\n",
       "      <td>18.377</td>\n",
       "      <td>10.020</td>\n",
       "      <td>15.250</td>\n",
       "      <td>15.562</td>\n",
       "      <td>16.154</td>\n",
       "      <td>17.172</td>\n",
       "      <td>826.282</td>\n",
       "      <td>0</td>\n",
       "    </tr>\n",
       "    <tr>\n",
       "      <td>4</td>\n",
       "      <td>A</td>\n",
       "      <td>188.06</td>\n",
       "      <td>material_7</td>\n",
       "      <td>material_8</td>\n",
       "      <td>9</td>\n",
       "      <td>5</td>\n",
       "      <td>9</td>\n",
       "      <td>2</td>\n",
       "      <td>8</td>\n",
       "      <td>19.346</td>\n",
       "      <td>...</td>\n",
       "      <td>10.337</td>\n",
       "      <td>17.082</td>\n",
       "      <td>19.932</td>\n",
       "      <td>12.428</td>\n",
       "      <td>16.182</td>\n",
       "      <td>12.760</td>\n",
       "      <td>13.153</td>\n",
       "      <td>16.412</td>\n",
       "      <td>579.885</td>\n",
       "      <td>0</td>\n",
       "    </tr>\n",
       "    <tr>\n",
       "      <td>...</td>\n",
       "      <td>...</td>\n",
       "      <td>...</td>\n",
       "      <td>...</td>\n",
       "      <td>...</td>\n",
       "      <td>...</td>\n",
       "      <td>...</td>\n",
       "      <td>...</td>\n",
       "      <td>...</td>\n",
       "      <td>...</td>\n",
       "      <td>...</td>\n",
       "      <td>...</td>\n",
       "      <td>...</td>\n",
       "      <td>...</td>\n",
       "      <td>...</td>\n",
       "      <td>...</td>\n",
       "      <td>...</td>\n",
       "      <td>...</td>\n",
       "      <td>...</td>\n",
       "      <td>...</td>\n",
       "      <td>...</td>\n",
       "      <td>...</td>\n",
       "    </tr>\n",
       "    <tr>\n",
       "      <td>26565</td>\n",
       "      <td>E</td>\n",
       "      <td>158.95</td>\n",
       "      <td>material_7</td>\n",
       "      <td>material_6</td>\n",
       "      <td>6</td>\n",
       "      <td>9</td>\n",
       "      <td>6</td>\n",
       "      <td>16</td>\n",
       "      <td>4</td>\n",
       "      <td>16.301</td>\n",
       "      <td>...</td>\n",
       "      <td>NaN</td>\n",
       "      <td>12.177</td>\n",
       "      <td>17.942</td>\n",
       "      <td>10.112</td>\n",
       "      <td>15.795</td>\n",
       "      <td>18.572</td>\n",
       "      <td>16.144</td>\n",
       "      <td>NaN</td>\n",
       "      <td>729.131</td>\n",
       "      <td>0</td>\n",
       "    </tr>\n",
       "    <tr>\n",
       "      <td>26566</td>\n",
       "      <td>E</td>\n",
       "      <td>146.02</td>\n",
       "      <td>material_7</td>\n",
       "      <td>material_6</td>\n",
       "      <td>6</td>\n",
       "      <td>9</td>\n",
       "      <td>10</td>\n",
       "      <td>12</td>\n",
       "      <td>8</td>\n",
       "      <td>17.543</td>\n",
       "      <td>...</td>\n",
       "      <td>11.242</td>\n",
       "      <td>14.179</td>\n",
       "      <td>20.564</td>\n",
       "      <td>10.234</td>\n",
       "      <td>14.450</td>\n",
       "      <td>14.322</td>\n",
       "      <td>13.146</td>\n",
       "      <td>16.471</td>\n",
       "      <td>853.924</td>\n",
       "      <td>0</td>\n",
       "    </tr>\n",
       "    <tr>\n",
       "      <td>26567</td>\n",
       "      <td>E</td>\n",
       "      <td>115.62</td>\n",
       "      <td>material_7</td>\n",
       "      <td>material_6</td>\n",
       "      <td>6</td>\n",
       "      <td>9</td>\n",
       "      <td>1</td>\n",
       "      <td>10</td>\n",
       "      <td>1</td>\n",
       "      <td>15.670</td>\n",
       "      <td>...</td>\n",
       "      <td>11.407</td>\n",
       "      <td>16.437</td>\n",
       "      <td>17.476</td>\n",
       "      <td>8.668</td>\n",
       "      <td>15.069</td>\n",
       "      <td>16.599</td>\n",
       "      <td>15.590</td>\n",
       "      <td>14.065</td>\n",
       "      <td>750.364</td>\n",
       "      <td>0</td>\n",
       "    </tr>\n",
       "    <tr>\n",
       "      <td>26568</td>\n",
       "      <td>E</td>\n",
       "      <td>106.38</td>\n",
       "      <td>material_7</td>\n",
       "      <td>material_6</td>\n",
       "      <td>6</td>\n",
       "      <td>9</td>\n",
       "      <td>2</td>\n",
       "      <td>9</td>\n",
       "      <td>4</td>\n",
       "      <td>18.059</td>\n",
       "      <td>...</td>\n",
       "      <td>11.392</td>\n",
       "      <td>17.064</td>\n",
       "      <td>17.814</td>\n",
       "      <td>14.928</td>\n",
       "      <td>16.273</td>\n",
       "      <td>15.485</td>\n",
       "      <td>13.624</td>\n",
       "      <td>12.865</td>\n",
       "      <td>730.156</td>\n",
       "      <td>0</td>\n",
       "    </tr>\n",
       "    <tr>\n",
       "      <td>26569</td>\n",
       "      <td>E</td>\n",
       "      <td>131.20</td>\n",
       "      <td>material_7</td>\n",
       "      <td>material_6</td>\n",
       "      <td>6</td>\n",
       "      <td>9</td>\n",
       "      <td>6</td>\n",
       "      <td>19</td>\n",
       "      <td>1</td>\n",
       "      <td>18.034</td>\n",
       "      <td>...</td>\n",
       "      <td>10.611</td>\n",
       "      <td>15.603</td>\n",
       "      <td>19.703</td>\n",
       "      <td>11.006</td>\n",
       "      <td>15.875</td>\n",
       "      <td>13.366</td>\n",
       "      <td>16.527</td>\n",
       "      <td>17.890</td>\n",
       "      <td>602.354</td>\n",
       "      <td>0</td>\n",
       "    </tr>\n",
       "  </tbody>\n",
       "</table>\n",
       "<p>21458 rows × 25 columns</p>\n",
       "</div>"
      ],
      "text/plain": [
       "      product_code  loading attribute_0 attribute_1  attribute_2  attribute_3  \\\n",
       "id                                                                              \n",
       "0                A    80.10  material_7  material_8            9            5   \n",
       "1                A    84.89  material_7  material_8            9            5   \n",
       "2                A    82.43  material_7  material_8            9            5   \n",
       "3                A   101.07  material_7  material_8            9            5   \n",
       "4                A   188.06  material_7  material_8            9            5   \n",
       "...            ...      ...         ...         ...          ...          ...   \n",
       "26565            E   158.95  material_7  material_6            6            9   \n",
       "26566            E   146.02  material_7  material_6            6            9   \n",
       "26567            E   115.62  material_7  material_6            6            9   \n",
       "26568            E   106.38  material_7  material_6            6            9   \n",
       "26569            E   131.20  material_7  material_6            6            9   \n",
       "\n",
       "       measurement_0  measurement_1  measurement_2  measurement_3  ...  \\\n",
       "id                                                                 ...   \n",
       "0                  7              8              4         18.040  ...   \n",
       "1                 14              3              3         18.213  ...   \n",
       "2                 12              1              5         18.057  ...   \n",
       "3                 13              2              6         17.295  ...   \n",
       "4                  9              2              8         19.346  ...   \n",
       "...              ...            ...            ...            ...  ...   \n",
       "26565              6             16              4         16.301  ...   \n",
       "26566             10             12              8         17.543  ...   \n",
       "26567              1             10              1         15.670  ...   \n",
       "26568              2              9              4         18.059  ...   \n",
       "26569              6             19              1         18.034  ...   \n",
       "\n",
       "       measurement_9  measurement_10  measurement_11  measurement_12  \\\n",
       "id                                                                     \n",
       "0             10.672          15.859          17.594          15.193   \n",
       "1             12.448          17.947          17.915          11.755   \n",
       "2             12.715          15.607             NaN          13.798   \n",
       "3             12.471          16.346          18.377          10.020   \n",
       "4             10.337          17.082          19.932          12.428   \n",
       "...              ...             ...             ...             ...   \n",
       "26565            NaN          12.177          17.942          10.112   \n",
       "26566         11.242          14.179          20.564          10.234   \n",
       "26567         11.407          16.437          17.476           8.668   \n",
       "26568         11.392          17.064          17.814          14.928   \n",
       "26569         10.611          15.603          19.703          11.006   \n",
       "\n",
       "       measurement_13  measurement_14  measurement_15  measurement_16  \\\n",
       "id                                                                      \n",
       "0              15.029             NaN          13.034          14.684   \n",
       "1              14.732          15.425          14.395          15.631   \n",
       "2              16.711          18.631          14.094          17.946   \n",
       "3              15.250          15.562          16.154          17.172   \n",
       "4              16.182          12.760          13.153          16.412   \n",
       "...               ...             ...             ...             ...   \n",
       "26565          15.795          18.572          16.144             NaN   \n",
       "26566          14.450          14.322          13.146          16.471   \n",
       "26567          15.069          16.599          15.590          14.065   \n",
       "26568          16.273          15.485          13.624          12.865   \n",
       "26569          15.875          13.366          16.527          17.890   \n",
       "\n",
       "       measurement_17  failure  \n",
       "id                              \n",
       "0             764.100        0  \n",
       "1             682.057        0  \n",
       "2             663.376        0  \n",
       "3             826.282        0  \n",
       "4             579.885        0  \n",
       "...               ...      ...  \n",
       "26565         729.131        0  \n",
       "26566         853.924        0  \n",
       "26567         750.364        0  \n",
       "26568         730.156        0  \n",
       "26569         602.354        0  \n",
       "\n",
       "[21458 rows x 25 columns]"
      ]
     },
     "execution_count": 27,
     "metadata": {},
     "output_type": "execute_result"
    }
   ],
   "source": [
    "df_basetable = pd.read_csv('train_prob.csv', index_col='id')\n",
    "df_basetable"
   ]
  },
  {
   "cell_type": "code",
   "execution_count": 28,
   "id": "b7dfadb1",
   "metadata": {},
   "outputs": [
    {
     "name": "stdout",
     "output_type": "stream",
     "text": [
      "<class 'pandas.core.frame.DataFrame'>\n",
      "Int64Index: 21458 entries, 0 to 26569\n",
      "Data columns (total 25 columns):\n",
      "product_code      21458 non-null object\n",
      "loading           21257 non-null float64\n",
      "attribute_0       21458 non-null object\n",
      "attribute_1       21458 non-null object\n",
      "attribute_2       21458 non-null int64\n",
      "attribute_3       21458 non-null int64\n",
      "measurement_0     21458 non-null int64\n",
      "measurement_1     21458 non-null int64\n",
      "measurement_2     21458 non-null int64\n",
      "measurement_3     21146 non-null float64\n",
      "measurement_4     21016 non-null float64\n",
      "measurement_5     20893 non-null float64\n",
      "measurement_6     20818 non-null float64\n",
      "measurement_7     20692 non-null float64\n",
      "measurement_8     20605 non-null float64\n",
      "measurement_9     20469 non-null float64\n",
      "measurement_10    20399 non-null float64\n",
      "measurement_11    20278 non-null float64\n",
      "measurement_12    20171 non-null float64\n",
      "measurement_13    20063 non-null float64\n",
      "measurement_14    19976 non-null float64\n",
      "measurement_15    19855 non-null float64\n",
      "measurement_16    19750 non-null float64\n",
      "measurement_17    19640 non-null float64\n",
      "failure           21458 non-null int64\n",
      "dtypes: float64(16), int64(6), object(3)\n",
      "memory usage: 4.3+ MB\n"
     ]
    }
   ],
   "source": [
    "df_basetable.info()"
   ]
  },
  {
   "cell_type": "markdown",
   "id": "b80d1407",
   "metadata": {},
   "source": [
    "# 전처리(Preprocessing)\n",
    "\n",
    "train_prob.csv를 불러 온다. 이를 basetable이리고 한다."
   ]
  },
  {
   "cell_type": "code",
   "execution_count": null,
   "id": "76ca3fb1",
   "metadata": {},
   "outputs": [],
   "source": []
  },
  {
   "cell_type": "markdown",
   "id": "11f35976",
   "metadata": {},
   "source": [
    "# 단계 1\n",
    "\n",
    "basetable에 measurement_3 ~17 각각의 행이 결측인지 나타내는 파생 변수를 만든다. \n",
    "\n",
    "파생 변수는 이진 형식이고, False는 미결측 True는 결측을 의미한다. \n",
    "\n",
    "파생 변수의 이름은 measurement 번호에 따라 isna_3 ~ 17로 한다. "
   ]
  },
  {
   "cell_type": "code",
   "execution_count": 29,
   "id": "9d8bd808",
   "metadata": {},
   "outputs": [
    {
     "data": {
      "text/plain": [
       "isna_3      312\n",
       "isna_4      442\n",
       "isna_5      565\n",
       "isna_6      640\n",
       "isna_7      766\n",
       "isna_8      853\n",
       "isna_9      989\n",
       "isna_10    1059\n",
       "isna_11    1180\n",
       "isna_12    1287\n",
       "isna_13    1395\n",
       "isna_14    1482\n",
       "isna_15    1603\n",
       "isna_16    1708\n",
       "isna_17    1818\n",
       "dtype: int64"
      ]
     },
     "execution_count": 29,
     "metadata": {},
     "output_type": "execute_result"
    }
   ],
   "source": [
    "df_basetable[['isna_{}'.format(i) for i in range(3, 18)]] = \\\n",
    "        df_basetable[['measurement_{}'.format(i) for i in range(3, 18)]].isna()\n",
    "df_basetable[['isna_{}'.format(i) for i in range(3, 18)]].sum()"
   ]
  },
  {
   "cell_type": "markdown",
   "id": "3173737d",
   "metadata": {},
   "source": [
    "## 단계 2\n",
    "\n",
    "이 과제를 맡은 데이터분석가 지희는 measurement_3~17의 결측치 처리 방안을 고민하던 중, \n",
    "\n",
    "개발부서에서 measurement_17은 product_code별로 failure를 예측하기 위해 \n",
    "\n",
    "measurement_3 ~ measurement_9을 다음과 같이 선형 조합하여 생성한 값이라는 정보를 받았다. \n",
    "\n",
    "$measurement_{17}=\\beta_{3}measurement_{3}+\\beta_{4}measurement_{4}+...+\\beta_{9}measurement_{9}$\n",
    "\n",
    "이는 즉,\n",
    "\n",
    "$measurement_{3}=\\beta'_{4}measurement_{4}+\\beta'_{5}measurement_{5}+...+\\beta'_{9}measurement_{9}+\\beta'_{17}measurement_{17}$\n",
    "\n",
    "...\n",
    "\n",
    "$measurement_{9}=\\beta''_{3}measurement_{3}+\\beta''_{4}measurement_{4}+...+\\beta''_{8}measurement_{8}...+\\beta''_{17}measurement_{17}$\n",
    "\n",
    "와 같이 measurement_3 ~ measurement_9의 각 변수들도 나머지 변수들과 선형 관계를 지닌다. \n",
    "\n",
    "이 점을 이용하여 대상 변수를 번갈아 가면서 예측 모델을 만들어 최대한 원래 값에 가깝게 복원할 수 있다. \n",
    "\n",
    "이러한 반복적인 결측치 복원 방법을 사내 데이터분석 연구소에 문의 했더니 다음과 같은 가이드를 주었다. \n",
    "\n",
    "> sklearn 모듈에 아직은 실험 단계이지만, 비슷한 경우에 문제 없이 사용했던 사례가 있어 의견을 드립니다. \n",
    "\n",
    "> from sklearn.experimental import enable_iterative_imputer 구문을 사용하여 실험 단계인 모듈을 활성화하고, \n",
    "\n",
    "> sklearn.impute.IterativeImputer를 사용한다면 원하는 결과를 얻을 수 있습니다.\n",
    "\n",
    "가이드의 내용을 참조하여 basetable의 measurement_3~9와 measurement_17 결측치를 복원하라.\n",
    "\n",
    "\n",
    "입력 변수] measurement_3 ~ 9, measurement_17 (입력 변수 순서에 유의)\n",
    "\n",
    "---\n",
    "**함수가이드**\n",
    "\n",
    "sklearn.experimental.enable_iterative_imputer\n",
    "\n",
    "sklearn.impute.IterativeImputer, random_state=123\n",
    "\n",
    "sklearn.linear_model.LinearRegression\n",
    "\n",
    "문제 지시사항 외 Default 값 사용\n",
    "\n",
    "---\n"
   ]
  },
  {
   "cell_type": "code",
   "execution_count": 13,
   "id": "a94de17c",
   "metadata": {},
   "outputs": [
    {
     "data": {
      "text/plain": [
       "product_code\n",
       "A    0.999978\n",
       "B    0.999979\n",
       "C    0.999982\n",
       "E    0.999987\n",
       "dtype: float64"
      ]
     },
     "execution_count": 13,
     "metadata": {},
     "output_type": "execute_result"
    }
   ],
   "source": [
    "# Tip: 수준별로 모델을 만들어 예측해봅니다\n",
    "\n",
    "from sklearn.linear_model import LinearRegression\n",
    "from sklearn.metrics import r2_score\n",
    "\n",
    "X_lr = ['measurement_{}'.format(i) for i in range(3, 10)]\n",
    "\n",
    "# groupby ~ apply를 통해 수준별로 구분한 DataFrame을 받고,\n",
    "# 각각의 수준별로 학습한 결과는 Series로 받게 됩니다.\n",
    "s_lr = df_basetable[X_lr + ['measurement_17', 'product_code']]\\\n",
    "                    .dropna()\\\n",
    "                    .groupby('product_code')\\\n",
    "                    .apply(\n",
    "                        lambda x: LinearRegression().fit(x[X_lr], x['measurement_17'])\n",
    "                    )\n",
    "# 예측할 때는 groupby ~ apply를 사용하고\n",
    "# apply에 넘어오는 DataFrame의 name attribute를 이용하여\n",
    "# 받은 DataFrame에 해당하는 수준을 가지고 Series에 저장된 모델을 가져오고,\n",
    "# 예측을 합니다.\n",
    "df_basetable[X_lr + ['measurement_17', 'product_code']]\\\n",
    "            .dropna()\\\n",
    "            .groupby('product_code')\\\n",
    "            .apply(\n",
    "                lambda x: r2_score(x['measurement_17'], s_lr.loc[x.name].predict(x[X_lr]))\n",
    "            )"
   ]
  },
  {
   "cell_type": "code",
   "execution_count": 15,
   "id": "5b2af520",
   "metadata": {},
   "outputs": [
    {
     "data": {
      "text/plain": [
       "array([[ 18.04      ,  12.518     ,  15.748     , ...,  20.155     ,\n",
       "         10.672     , 764.1       ],\n",
       "       [ 18.213     ,  11.54      ,  17.717     , ...,  17.889     ,\n",
       "         12.448     , 682.057     ],\n",
       "       [ 18.057     ,  11.652     ,  16.738     , ...,  18.288     ,\n",
       "         12.715     , 663.376     ],\n",
       "       ...,\n",
       "       [ 15.67      ,  11.535     ,  16.778     , ...,  19.279     ,\n",
       "         11.407     , 750.364     ],\n",
       "       [ 18.059     ,  11.75609142,  16.918     , ...,  19.358     ,\n",
       "         11.392     , 730.156     ],\n",
       "       [ 18.034     ,  11.431     ,  16.918     , ...,  18.731     ,\n",
       "         10.611     , 602.354     ]])"
      ]
     },
     "execution_count": 15,
     "metadata": {},
     "output_type": "execute_result"
    }
   ],
   "source": [
    "from sklearn.experimental import enable_iterative_imputer # 구문을 사용하여 실험 단계인 모듈을 활성화 \n",
    "from sklearn.impute import IterativeImputer\n",
    "from sklearn.linear_model import LinearRegression\n",
    "# 처음 사용해보는 기능인 만큼 \n",
    "# 수준별로 적용하기 전에\n",
    "# 요건에 맞춰 모델을 설정하고,\n",
    "# 테스트 삼에 사용해 봅니다.\n",
    "imp = IterativeImputer(\n",
    "    estimator=LinearRegression(),\n",
    "    random_state=123\n",
    ")\n",
    "X_imp = ['measurement_{}'.format(i) for i in range(3, 10)] + ['measurement_17']\n",
    "imp.fit_transform(df_basetable[X_imp])"
   ]
  },
  {
   "cell_type": "code",
   "execution_count": 24,
   "id": "3417d50e",
   "metadata": {},
   "outputs": [
    {
     "data": {
      "text/plain": [
       "measurement_3     0\n",
       "measurement_4     0\n",
       "measurement_5     0\n",
       "measurement_6     0\n",
       "measurement_7     0\n",
       "measurement_8     0\n",
       "measurement_9     0\n",
       "measurement_17    0\n",
       "dtype: int64"
      ]
     },
     "execution_count": 24,
     "metadata": {},
     "output_type": "execute_result"
    }
   ],
   "source": [
    "# 방법 1: groupby ~ apply - 위의 Tip을 적용해봅니다.\n",
    "\n",
    "from sklearn.experimental import enable_iterative_imputer# 구문을 사용하여 실험 단계인 모듈을 활성화하고, \n",
    "from sklearn.impute import IterativeImputer\n",
    "from sklearn.linear_model import LinearRegression\n",
    "from sklearn.metrics import r2_score\n",
    "\n",
    "X_imp = ['measurement_{}'.format(i) for i in range(3, 10)] + ['measurement_17']\n",
    "# 수준별로 결측 보간 모델을 만들고 학습합니다.\n",
    "s_imp = df_basetable[X_imp + ['measurement_17', 'product_code']]\\\n",
    "                    .groupby('product_code')\\\n",
    "                    .apply(\n",
    "                        lambda x: IterativeImputer(estimator=LinearRegression(),random_state=123).fit(x[X_imp])\n",
    "                    )\n",
    "# 모델을 적용하여 결측이 처리된 데이터프레임을 만듭니다.\n",
    "# apply에서 transform에서 numpy array를 넘겨 주므로, \n",
    "# DataFrame을 만들어 반환시켜주면,\n",
    "# apply에서 DataFrame으로 재구성하여 넘겨줍니다.\n",
    "df_basetable[X_imp] = df_basetable[X_imp + ['product_code']]\\\n",
    "            .groupby('product_code')\\\n",
    "            .apply(\n",
    "                lambda x: pd.DataFrame(s_imp.loc[x.name].transform(x[X_imp]), index=x.index, columns=X_imp)\n",
    "            )\n",
    "\n",
    "df_basetable[X_imp].isna().sum()"
   ]
  },
  {
   "cell_type": "code",
   "execution_count": 145,
   "id": "5eee04c6",
   "metadata": {},
   "outputs": [
    {
     "data": {
      "text/html": [
       "<div>\n",
       "<style scoped>\n",
       "    .dataframe tbody tr th:only-of-type {\n",
       "        vertical-align: middle;\n",
       "    }\n",
       "\n",
       "    .dataframe tbody tr th {\n",
       "        vertical-align: top;\n",
       "    }\n",
       "\n",
       "    .dataframe thead th {\n",
       "        text-align: right;\n",
       "    }\n",
       "</style>\n",
       "<table border=\"1\" class=\"dataframe\">\n",
       "  <thead>\n",
       "    <tr style=\"text-align: right;\">\n",
       "      <th></th>\n",
       "      <th>measurement_3</th>\n",
       "      <th>measurement_4</th>\n",
       "      <th>measurement_5</th>\n",
       "      <th>measurement_6</th>\n",
       "      <th>measurement_7</th>\n",
       "      <th>measurement_8</th>\n",
       "      <th>measurement_9</th>\n",
       "      <th>measurement_17</th>\n",
       "    </tr>\n",
       "    <tr>\n",
       "      <th>id</th>\n",
       "      <th></th>\n",
       "      <th></th>\n",
       "      <th></th>\n",
       "      <th></th>\n",
       "      <th></th>\n",
       "      <th></th>\n",
       "      <th></th>\n",
       "      <th></th>\n",
       "    </tr>\n",
       "  </thead>\n",
       "  <tbody>\n",
       "    <tr>\n",
       "      <td>0</td>\n",
       "      <td>18.040</td>\n",
       "      <td>12.518000</td>\n",
       "      <td>15.748</td>\n",
       "      <td>19.292</td>\n",
       "      <td>11.739</td>\n",
       "      <td>20.155</td>\n",
       "      <td>10.672000</td>\n",
       "      <td>764.100</td>\n",
       "    </tr>\n",
       "    <tr>\n",
       "      <td>1</td>\n",
       "      <td>18.213</td>\n",
       "      <td>11.540000</td>\n",
       "      <td>17.717</td>\n",
       "      <td>17.893</td>\n",
       "      <td>12.748</td>\n",
       "      <td>17.889</td>\n",
       "      <td>12.448000</td>\n",
       "      <td>682.057</td>\n",
       "    </tr>\n",
       "    <tr>\n",
       "      <td>2</td>\n",
       "      <td>18.057</td>\n",
       "      <td>11.652000</td>\n",
       "      <td>16.738</td>\n",
       "      <td>18.240</td>\n",
       "      <td>12.718</td>\n",
       "      <td>18.288</td>\n",
       "      <td>12.715000</td>\n",
       "      <td>663.376</td>\n",
       "    </tr>\n",
       "    <tr>\n",
       "      <td>3</td>\n",
       "      <td>17.295</td>\n",
       "      <td>11.188000</td>\n",
       "      <td>18.576</td>\n",
       "      <td>18.339</td>\n",
       "      <td>12.583</td>\n",
       "      <td>19.060</td>\n",
       "      <td>12.471000</td>\n",
       "      <td>826.282</td>\n",
       "    </tr>\n",
       "    <tr>\n",
       "      <td>4</td>\n",
       "      <td>19.346</td>\n",
       "      <td>12.950000</td>\n",
       "      <td>16.990</td>\n",
       "      <td>15.746</td>\n",
       "      <td>11.306</td>\n",
       "      <td>18.093</td>\n",
       "      <td>10.337000</td>\n",
       "      <td>579.885</td>\n",
       "    </tr>\n",
       "    <tr>\n",
       "      <td>...</td>\n",
       "      <td>...</td>\n",
       "      <td>...</td>\n",
       "      <td>...</td>\n",
       "      <td>...</td>\n",
       "      <td>...</td>\n",
       "      <td>...</td>\n",
       "      <td>...</td>\n",
       "      <td>...</td>\n",
       "    </tr>\n",
       "    <tr>\n",
       "      <td>26565</td>\n",
       "      <td>16.301</td>\n",
       "      <td>13.259000</td>\n",
       "      <td>18.068</td>\n",
       "      <td>15.505</td>\n",
       "      <td>10.865</td>\n",
       "      <td>19.354</td>\n",
       "      <td>11.738932</td>\n",
       "      <td>729.131</td>\n",
       "    </tr>\n",
       "    <tr>\n",
       "      <td>26566</td>\n",
       "      <td>17.543</td>\n",
       "      <td>10.695693</td>\n",
       "      <td>17.984</td>\n",
       "      <td>19.078</td>\n",
       "      <td>11.139</td>\n",
       "      <td>19.563</td>\n",
       "      <td>11.242000</td>\n",
       "      <td>853.924</td>\n",
       "    </tr>\n",
       "    <tr>\n",
       "      <td>26567</td>\n",
       "      <td>15.670</td>\n",
       "      <td>11.535000</td>\n",
       "      <td>16.778</td>\n",
       "      <td>18.385</td>\n",
       "      <td>11.630</td>\n",
       "      <td>19.279</td>\n",
       "      <td>11.407000</td>\n",
       "      <td>750.364</td>\n",
       "    </tr>\n",
       "    <tr>\n",
       "      <td>26568</td>\n",
       "      <td>18.059</td>\n",
       "      <td>11.284862</td>\n",
       "      <td>16.918</td>\n",
       "      <td>18.101</td>\n",
       "      <td>11.713</td>\n",
       "      <td>19.358</td>\n",
       "      <td>11.392000</td>\n",
       "      <td>730.156</td>\n",
       "    </tr>\n",
       "    <tr>\n",
       "      <td>26569</td>\n",
       "      <td>18.034</td>\n",
       "      <td>11.431000</td>\n",
       "      <td>16.918</td>\n",
       "      <td>17.129</td>\n",
       "      <td>12.713</td>\n",
       "      <td>18.731</td>\n",
       "      <td>10.611000</td>\n",
       "      <td>602.354</td>\n",
       "    </tr>\n",
       "  </tbody>\n",
       "</table>\n",
       "<p>21458 rows × 8 columns</p>\n",
       "</div>"
      ],
      "text/plain": [
       "       measurement_3  measurement_4  measurement_5  measurement_6  \\\n",
       "id                                                                  \n",
       "0             18.040      12.518000         15.748         19.292   \n",
       "1             18.213      11.540000         17.717         17.893   \n",
       "2             18.057      11.652000         16.738         18.240   \n",
       "3             17.295      11.188000         18.576         18.339   \n",
       "4             19.346      12.950000         16.990         15.746   \n",
       "...              ...            ...            ...            ...   \n",
       "26565         16.301      13.259000         18.068         15.505   \n",
       "26566         17.543      10.695693         17.984         19.078   \n",
       "26567         15.670      11.535000         16.778         18.385   \n",
       "26568         18.059      11.284862         16.918         18.101   \n",
       "26569         18.034      11.431000         16.918         17.129   \n",
       "\n",
       "       measurement_7  measurement_8  measurement_9  measurement_17  \n",
       "id                                                                  \n",
       "0             11.739         20.155      10.672000         764.100  \n",
       "1             12.748         17.889      12.448000         682.057  \n",
       "2             12.718         18.288      12.715000         663.376  \n",
       "3             12.583         19.060      12.471000         826.282  \n",
       "4             11.306         18.093      10.337000         579.885  \n",
       "...              ...            ...            ...             ...  \n",
       "26565         10.865         19.354      11.738932         729.131  \n",
       "26566         11.139         19.563      11.242000         853.924  \n",
       "26567         11.630         19.279      11.407000         750.364  \n",
       "26568         11.713         19.358      11.392000         730.156  \n",
       "26569         12.713         18.731      10.611000         602.354  \n",
       "\n",
       "[21458 rows x 8 columns]"
      ]
     },
     "execution_count": 145,
     "metadata": {},
     "output_type": "execute_result"
    }
   ],
   "source": [
    "# 참고로, 위 과정을 fit_transform을 사용하여 한 번에 할 수도 있습니다.\n",
    "imp = IterativeImputer(estimator=LinearRegression(),random_state=123) \n",
    "df_basetable[X_imp + ['product_code']]\\\n",
    "    .groupby('product_code')\\\n",
    "    .apply(\n",
    "        lambda x:  pd.DataFrame(imp.fit_transform(x[X_imp]), index=x.index, columns=X_imp)\n",
    "    )"
   ]
  },
  {
   "cell_type": "code",
   "execution_count": 31,
   "id": "c6169e71",
   "metadata": {},
   "outputs": [
    {
     "data": {
      "text/plain": [
       "measurement_3     0\n",
       "measurement_4     0\n",
       "measurement_5     0\n",
       "measurement_6     0\n",
       "measurement_7     0\n",
       "measurement_8     0\n",
       "measurement_9     0\n",
       "measurement_17    0\n",
       "dtype: int64"
      ]
     },
     "execution_count": 31,
     "metadata": {},
     "output_type": "execute_result"
    }
   ],
   "source": [
    "# 방법 2: 반복문을 이용합니다.\n",
    "\n",
    "X_imp = ['measurement_{}'.format(i) for i in range(3, 10)] + ['measurement_17']\n",
    "for i in df_basetable['product_code'].unique():\n",
    "    s_bidx = df_basetable['product_code'] == i\n",
    "    imp = IterativeImputer(estimator=LinearRegression(),random_state=123).fit(df_basetable.loc[s_bidx, X_imp])\n",
    "    # 값을 대입할 때, 대입에 대상이 되는 데이터프레임을\n",
    "    # df_basetable.loc[s_bidx][X_imp] 이런식으로 filtering -> 컬럼선택 2단계로 할 경우 reference 경고를 받게 됩니다.\n",
    "    # df_basetable.loc[s_bidx, X_imp] filtering과 columns 선택을 하여 중간에 reference DataFrame 없이 처리하도록 합니다.\n",
    "    df_basetable.loc[s_bidx, X_imp] = imp.transform(df_basetable.loc[s_bidx, X_imp])\n",
    "df_basetable[X_imp].isna().sum()"
   ]
  },
  {
   "cell_type": "markdown",
   "id": "c95edba8",
   "metadata": {},
   "source": [
    "## 단계 3\n",
    "\n",
    "measurement_10~16까지의 결측치는 모두 product_code별 평균으로 대치한다."
   ]
  },
  {
   "cell_type": "code",
   "execution_count": 34,
   "id": "0bea1389",
   "metadata": {},
   "outputs": [],
   "source": [
    "# 방법1\n",
    "X_mean = ['measurement_{}'.format(i) for i in range(10, 17)]\n",
    "df_basetable[X_mean] = \\\n",
    "            df_basetable.groupby('product_code')[X_mean]\\\n",
    "                    .apply(lambda x: pd.DataFrame(x.fillna(x.mean()), index=x.index, columns=X_mean))"
   ]
  },
  {
   "cell_type": "code",
   "execution_count": 40,
   "id": "2d7a1d7f",
   "metadata": {},
   "outputs": [
    {
     "data": {
      "text/html": [
       "<div>\n",
       "<style scoped>\n",
       "    .dataframe tbody tr th:only-of-type {\n",
       "        vertical-align: middle;\n",
       "    }\n",
       "\n",
       "    .dataframe tbody tr th {\n",
       "        vertical-align: top;\n",
       "    }\n",
       "\n",
       "    .dataframe thead th {\n",
       "        text-align: right;\n",
       "    }\n",
       "</style>\n",
       "<table border=\"1\" class=\"dataframe\">\n",
       "  <thead>\n",
       "    <tr style=\"text-align: right;\">\n",
       "      <th></th>\n",
       "      <th>measurement_10</th>\n",
       "      <th>measurement_11</th>\n",
       "      <th>measurement_12</th>\n",
       "      <th>measurement_13</th>\n",
       "      <th>measurement_14</th>\n",
       "      <th>measurement_15</th>\n",
       "      <th>measurement_16</th>\n",
       "    </tr>\n",
       "    <tr>\n",
       "      <th>id</th>\n",
       "      <th></th>\n",
       "      <th></th>\n",
       "      <th></th>\n",
       "      <th></th>\n",
       "      <th></th>\n",
       "      <th></th>\n",
       "      <th></th>\n",
       "    </tr>\n",
       "  </thead>\n",
       "  <tbody>\n",
       "    <tr>\n",
       "      <td>0</td>\n",
       "      <td>15.859</td>\n",
       "      <td>17.594000</td>\n",
       "      <td>15.193</td>\n",
       "      <td>15.029</td>\n",
       "      <td>16.110886</td>\n",
       "      <td>13.034</td>\n",
       "      <td>14.684000</td>\n",
       "    </tr>\n",
       "    <tr>\n",
       "      <td>1</td>\n",
       "      <td>17.947</td>\n",
       "      <td>17.915000</td>\n",
       "      <td>11.755</td>\n",
       "      <td>14.732</td>\n",
       "      <td>15.425000</td>\n",
       "      <td>14.395</td>\n",
       "      <td>15.631000</td>\n",
       "    </tr>\n",
       "    <tr>\n",
       "      <td>2</td>\n",
       "      <td>15.607</td>\n",
       "      <td>19.439558</td>\n",
       "      <td>13.798</td>\n",
       "      <td>16.711</td>\n",
       "      <td>18.631000</td>\n",
       "      <td>14.094</td>\n",
       "      <td>17.946000</td>\n",
       "    </tr>\n",
       "    <tr>\n",
       "      <td>3</td>\n",
       "      <td>16.346</td>\n",
       "      <td>18.377000</td>\n",
       "      <td>10.020</td>\n",
       "      <td>15.250</td>\n",
       "      <td>15.562000</td>\n",
       "      <td>16.154</td>\n",
       "      <td>17.172000</td>\n",
       "    </tr>\n",
       "    <tr>\n",
       "      <td>4</td>\n",
       "      <td>17.082</td>\n",
       "      <td>19.932000</td>\n",
       "      <td>12.428</td>\n",
       "      <td>16.182</td>\n",
       "      <td>12.760000</td>\n",
       "      <td>13.153</td>\n",
       "      <td>16.412000</td>\n",
       "    </tr>\n",
       "    <tr>\n",
       "      <td>...</td>\n",
       "      <td>...</td>\n",
       "      <td>...</td>\n",
       "      <td>...</td>\n",
       "      <td>...</td>\n",
       "      <td>...</td>\n",
       "      <td>...</td>\n",
       "      <td>...</td>\n",
       "    </tr>\n",
       "    <tr>\n",
       "      <td>26565</td>\n",
       "      <td>12.177</td>\n",
       "      <td>17.942000</td>\n",
       "      <td>10.112</td>\n",
       "      <td>15.795</td>\n",
       "      <td>18.572000</td>\n",
       "      <td>16.144</td>\n",
       "      <td>16.066552</td>\n",
       "    </tr>\n",
       "    <tr>\n",
       "      <td>26566</td>\n",
       "      <td>14.179</td>\n",
       "      <td>20.564000</td>\n",
       "      <td>10.234</td>\n",
       "      <td>14.450</td>\n",
       "      <td>14.322000</td>\n",
       "      <td>13.146</td>\n",
       "      <td>16.471000</td>\n",
       "    </tr>\n",
       "    <tr>\n",
       "      <td>26567</td>\n",
       "      <td>16.437</td>\n",
       "      <td>17.476000</td>\n",
       "      <td>8.668</td>\n",
       "      <td>15.069</td>\n",
       "      <td>16.599000</td>\n",
       "      <td>15.590</td>\n",
       "      <td>14.065000</td>\n",
       "    </tr>\n",
       "    <tr>\n",
       "      <td>26568</td>\n",
       "      <td>17.064</td>\n",
       "      <td>17.814000</td>\n",
       "      <td>14.928</td>\n",
       "      <td>16.273</td>\n",
       "      <td>15.485000</td>\n",
       "      <td>13.624</td>\n",
       "      <td>12.865000</td>\n",
       "    </tr>\n",
       "    <tr>\n",
       "      <td>26569</td>\n",
       "      <td>15.603</td>\n",
       "      <td>19.703000</td>\n",
       "      <td>11.006</td>\n",
       "      <td>15.875</td>\n",
       "      <td>13.366000</td>\n",
       "      <td>16.527</td>\n",
       "      <td>17.890000</td>\n",
       "    </tr>\n",
       "  </tbody>\n",
       "</table>\n",
       "<p>21458 rows × 7 columns</p>\n",
       "</div>"
      ],
      "text/plain": [
       "       measurement_10  measurement_11  measurement_12  measurement_13  \\\n",
       "id                                                                      \n",
       "0              15.859       17.594000          15.193          15.029   \n",
       "1              17.947       17.915000          11.755          14.732   \n",
       "2              15.607       19.439558          13.798          16.711   \n",
       "3              16.346       18.377000          10.020          15.250   \n",
       "4              17.082       19.932000          12.428          16.182   \n",
       "...               ...             ...             ...             ...   \n",
       "26565          12.177       17.942000          10.112          15.795   \n",
       "26566          14.179       20.564000          10.234          14.450   \n",
       "26567          16.437       17.476000           8.668          15.069   \n",
       "26568          17.064       17.814000          14.928          16.273   \n",
       "26569          15.603       19.703000          11.006          15.875   \n",
       "\n",
       "       measurement_14  measurement_15  measurement_16  \n",
       "id                                                     \n",
       "0           16.110886          13.034       14.684000  \n",
       "1           15.425000          14.395       15.631000  \n",
       "2           18.631000          14.094       17.946000  \n",
       "3           15.562000          16.154       17.172000  \n",
       "4           12.760000          13.153       16.412000  \n",
       "...               ...             ...             ...  \n",
       "26565       18.572000          16.144       16.066552  \n",
       "26566       14.322000          13.146       16.471000  \n",
       "26567       16.599000          15.590       14.065000  \n",
       "26568       15.485000          13.624       12.865000  \n",
       "26569       13.366000          16.527       17.890000  \n",
       "\n",
       "[21458 rows x 7 columns]"
      ]
     },
     "execution_count": 40,
     "metadata": {},
     "output_type": "execute_result"
    }
   ],
   "source": [
    "# 방법 2\n",
    "X_mean = ['measurement_{}'.format(i) for i in range(10, 17)]\n",
    "df_basetable[X_mean] = \\\n",
    "        df_basetable.groupby('product_code')[X_mean]\\\n",
    "                .transform(lambda x: x.fillna(x.mean()))"
   ]
  },
  {
   "cell_type": "markdown",
   "id": "d62884d7",
   "metadata": {},
   "source": [
    "Hint] 전처리 단계에서 보간 결과를 확인해 보기 위한 각 변수의 평균과 표본표준편차.\n",
    "\n",
    "| |3|4|5|6|7|8|9|10|11|12|13|14|15|16|17|\n",
    "|-|-|-|-|-|-|-|-|--|--|--|--|--|--|--|--|\n",
    "|mean|17.796|11.736|17.131|17.506|11.719|19.022|11.434|16.034|19.194|11.734|15.666|16.033|15.051|16.398|701.768|\n",
    "|std|0.997|0.994|0.994|0.992|0.993|1.005|0.997|1.278|1.579|1.433|1.149|1.461|1.478|1.671|119.180|\n",
    "\n",
    "열의 이름의 숫자는 measurement_ 번호, 값은 소수점 3째 자리까지 반올림"
   ]
  },
  {
   "cell_type": "code",
   "execution_count": 44,
   "id": "0ff22f9e",
   "metadata": {},
   "outputs": [
    {
     "data": {
      "text/html": [
       "<div>\n",
       "<style scoped>\n",
       "    .dataframe tbody tr th:only-of-type {\n",
       "        vertical-align: middle;\n",
       "    }\n",
       "\n",
       "    .dataframe tbody tr th {\n",
       "        vertical-align: top;\n",
       "    }\n",
       "\n",
       "    .dataframe thead th {\n",
       "        text-align: right;\n",
       "    }\n",
       "</style>\n",
       "<table border=\"1\" class=\"dataframe\">\n",
       "  <thead>\n",
       "    <tr style=\"text-align: right;\">\n",
       "      <th></th>\n",
       "      <th>3</th>\n",
       "      <th>4</th>\n",
       "      <th>5</th>\n",
       "      <th>6</th>\n",
       "      <th>7</th>\n",
       "      <th>8</th>\n",
       "      <th>9</th>\n",
       "      <th>10</th>\n",
       "      <th>11</th>\n",
       "      <th>12</th>\n",
       "      <th>13</th>\n",
       "      <th>14</th>\n",
       "      <th>15</th>\n",
       "      <th>16</th>\n",
       "      <th>17</th>\n",
       "    </tr>\n",
       "  </thead>\n",
       "  <tbody>\n",
       "    <tr>\n",
       "      <td>mean</td>\n",
       "      <td>17.796</td>\n",
       "      <td>11.736</td>\n",
       "      <td>17.131</td>\n",
       "      <td>17.506</td>\n",
       "      <td>11.719</td>\n",
       "      <td>19.022</td>\n",
       "      <td>11.434</td>\n",
       "      <td>16.034</td>\n",
       "      <td>19.194</td>\n",
       "      <td>11.734</td>\n",
       "      <td>15.666</td>\n",
       "      <td>16.033</td>\n",
       "      <td>15.051</td>\n",
       "      <td>16.398</td>\n",
       "      <td>701.768</td>\n",
       "    </tr>\n",
       "    <tr>\n",
       "      <td>std</td>\n",
       "      <td>0.997</td>\n",
       "      <td>0.994</td>\n",
       "      <td>0.994</td>\n",
       "      <td>0.992</td>\n",
       "      <td>0.993</td>\n",
       "      <td>1.005</td>\n",
       "      <td>0.997</td>\n",
       "      <td>1.278</td>\n",
       "      <td>1.579</td>\n",
       "      <td>1.433</td>\n",
       "      <td>1.149</td>\n",
       "      <td>1.461</td>\n",
       "      <td>1.478</td>\n",
       "      <td>1.671</td>\n",
       "      <td>119.180</td>\n",
       "    </tr>\n",
       "  </tbody>\n",
       "</table>\n",
       "</div>"
      ],
      "text/plain": [
       "           3       4       5       6       7       8       9      10      11  \\\n",
       "mean  17.796  11.736  17.131  17.506  11.719  19.022  11.434  16.034  19.194   \n",
       "std    0.997   0.994   0.994   0.992   0.993   1.005   0.997   1.278   1.579   \n",
       "\n",
       "          12      13      14      15      16       17  \n",
       "mean  11.734  15.666  16.033  15.051  16.398  701.768  \n",
       "std    1.433   1.149   1.461   1.478   1.671  119.180  "
      ]
     },
     "execution_count": 44,
     "metadata": {},
     "output_type": "execute_result"
    }
   ],
   "source": [
    "df_basetable[['measurement_{}'.format(i) for i in range(3, 18)]].agg(['mean', 'std'])\\\n",
    "        .rename(columns=lambda x: x.split('_')[1])\\\n",
    "        .apply(lambda x: round(x, 3))"
   ]
  },
  {
   "cell_type": "markdown",
   "id": "218dab47",
   "metadata": {},
   "source": [
    "# 문제1\n",
    "\n",
    "(basetable을 사용) measurement_3~16까지 결측 여부가 failure에 영향이 있는지를 파악하고, \n",
    "\n",
    "failure를 분류하는 데 도움이 될 만한 것은 예측 모델의 입력 변수로 사용하고자 한다. \n",
    "\n",
    "이를 위해 전처리 과정에서 뽑아낸 isna_3~16을 활용한다.\n",
    "\n",
    "n이 3부터 16까지, 즉 measurement_3~16까지 다음의 검정을 수행한다. \n",
    "\n",
    "$H_0: P(failure=True|measurement_{n}=Missing)=P(failure=True)$\n",
    "\n",
    "$H_1: P(failure=True|measurement_{n}=Missing) \\neq P(failure=True)$\n",
    "\n",
    "모집단의 $P(failure=True) = 0.2114$\n"
   ]
  },
  {
   "cell_type": "code",
   "execution_count": null,
   "id": "9ed64b12",
   "metadata": {},
   "outputs": [],
   "source": []
  },
  {
   "cell_type": "markdown",
   "id": "91304a06",
   "metadata": {},
   "source": [
    "## 단계 1-1\n",
    "\n",
    "우선, measurement_3으로 위 검정을 시행해보자.\n",
    "\n",
    "$H_0: P(failure=True|isna_{3}=True)=0.2114$\n",
    "\n",
    "$H_1: P(failure=True|isna_{3}=True) \\neq 0.2114$\n",
    "\n",
    "으로 바꿀 수 있다.\n",
    "\n",
    "$P(failure=True|isna_{3}=True)$은 표본수가 충분하여 중심극한정리에 의해 정규분포를 따르는 것은 분석가 간에 이견이 없다고 한다. \n",
    "\n",
    "위 검정의 p-value를 구하여 보고 힌트에 주어진 p-value와 비교하여 검정 방법에 문제가 없음을 확인하라.\n",
    "\n",
    "---\n",
    "\n",
    "**함수 가이드**\n",
    "\n",
    " scipy.stats 에서 제공 기능 활용\n",
    " \n",
    " 문제 지시사항 외 Default 값 사용\n",
    " \n",
    "---\n",
    "\n",
    " Hint] p-value는 0.0037(소수점 다섯째 자리에서 반올림하여 넷째 자리까지 표시)\n"
   ]
  },
  {
   "cell_type": "code",
   "execution_count": 54,
   "id": "93b98c5b",
   "metadata": {},
   "outputs": [
    {
     "data": {
      "text/plain": [
       "(0.2114,\n",
       " 0.16671004,\n",
       " 0.2114,\n",
       " 0.0005343270512820513,\n",
       " 0.14423076923076922,\n",
       " -2.905807189028007,\n",
       " 0.0036630709140241546)"
      ]
     },
     "execution_count": 54,
     "metadata": {},
     "output_type": "execute_result"
    }
   ],
   "source": [
    "from scipy.stats import norm\n",
    "\n",
    "# 모집단의 failure가 True인 비율(True = 1로 매칭한다면, 평균)\n",
    "P_true = 0.2114\n",
    "# 베르누이 분포의 성질을 이용하면, 모집단의 분산을 구할 수 있습니다. 분산 = p × (1 - p)\n",
    "P_var = P_true * (1 - P_true)\n",
    "# 표본의 평균은 모집단의 평균과 같습니다.\n",
    "P_sample_true = P_true\n",
    "# 표본의 분산은 = 모집단의 분산 / 표본수\n",
    "# 표본의 분산을 구하기 위해 표본의 수를 구합니다. \n",
    "n_sample = df_basetable['isna_3'].sum()\n",
    "P_sample_var = P_var / n_sample\n",
    "\n",
    "# 표본에서 관측한 비율(평균)을 구합니다.\n",
    "P_observed_true = df_basetable.loc[df_basetable['isna_3'], 'failure'].mean()\n",
    "# 검정통계량을 구합니다. \n",
    "# 양측 검증이라 적용의 편의성을 위해\n",
    "# 표준화 후 좌측 꼬리의 검정통계량을 구하기 위해, 절대값에 마이너스를 취합니다.\n",
    "Z = -abs((P_observed_true - P_sample_true) / (P_sample_var ** 0.5))\n",
    "# 누적분포함수를 이용하여 좌측 꼬리 영역을 구하고 x 2 를 해주어 양쪽 영역을 구합니다.\n",
    "pvalue = norm.cdf(Z) * 2\n",
    "\n",
    "P_true, P_var, P_sample_true, P_sample_var, P_observed_true, Z, pvalue"
   ]
  },
  {
   "cell_type": "code",
   "execution_count": 50,
   "id": "7326b415",
   "metadata": {},
   "outputs": [
    {
     "data": {
      "image/png": "[encoded data removed]",
      "text/plain": [
       "<Figure size 640x480 with 1 Axes>"
      ]
     },
     "metadata": {},
     "output_type": "display_data"
    }
   ],
   "source": [
    "# 표준정규 분포를 이용한 pvalue 도출을 그래프로 설명해봅니다\n",
    "from scipy.stats import norm\n",
    "col = 'isna_{}'.format(4)\n",
    "P_var = P_true * (1 - P_true)\n",
    "n_samples = df_basetable[col].sum()\n",
    "P_missing_true = df_basetable.loc[df_basetable[col], 'failure'].mean()\n",
    "P_missing_var = P_var / n_samples\n",
    "P_missing_std = P_missing_var ** 0.5\n",
    "\n",
    "stat = -abs((P_missing_true - P_true) / P_missing_std)\n",
    "\n",
    "plt.plot(np.linspace(-5, 5, 100), norm.pdf(np.linspace(-5, 5, 100)))\n",
    "plt.axvline(stat, color='red', linestyle='--')\n",
    "plt.text(stat, 0.03, str(stat)[:7])\n",
    "plt.axvline(-stat, color='red', linestyle='--')\n",
    "plt.text(-stat, 0.01, str(-stat)[:6])\n",
    "plt.fill_between(np.linspace(-5, stat, 100), np.zeros(shape=100),\n",
    "                norm.pdf(np.linspace(-5, stat, 100)), color='orange')\n",
    "plt.fill_between(np.linspace(-stat, 5, 100), np.zeros(shape=100),\n",
    "                norm.pdf(np.linspace(-stat, 5, 100)), color='orange')\n",
    "\n",
    "plt.show()"
   ]
  },
  {
   "cell_type": "code",
   "execution_count": 56,
   "id": "a48a9417",
   "metadata": {},
   "outputs": [
    {
     "data": {
      "text/plain": [
       "(-2.905807189028007, 0.0036630709140241546)"
      ]
     },
     "execution_count": 56,
     "metadata": {},
     "output_type": "execute_result"
    }
   ],
   "source": [
    "# 이론시간에 다루었던 statsmodels의 기능을 활용하여 위 검정을 해봅니다.\n",
    "from statsmodels.stats.proportion import proportions_ztest\n",
    "proportions_ztest(\n",
    "    df_basetable.loc[df_basetable['isna_3'], 'failure'].sum(), # positive(failure=True)인 빈도수\n",
    "    df_basetable['isna_3'].sum(), # 표본의 수\n",
    "    0.2114, # 모집단의 비율\n",
    "    alternative = 'two-sided', # 검정의 종류\n",
    "    prop_var = 0.2114 # 베르누이 분포의 분산을 계산할 때의 비율 (모집단의 비율과 동일하게 설정합니다.)\n",
    ")"
   ]
  },
  {
   "cell_type": "markdown",
   "id": "91c87c44",
   "metadata": {},
   "source": [
    "## 단계 1-2\n",
    "\n",
    "measuremenet_3을 포함하여 measurement_4 ~ 16까지 위 검정을 반복하고 \n",
    "\n",
    "귀무가설을 기각할 수 있는 경우의 p-value의 합을 A라고 한다. (유의 수준은 5%로 한다.)"
   ]
  },
  {
   "cell_type": "code",
   "execution_count": 58,
   "id": "f49aa12e",
   "metadata": {},
   "outputs": [
    {
     "name": "stdout",
     "output_type": "stream",
     "text": [
      "* isna_3 -2.905807189028007 0.0036630709140241546\n",
      "isna_4 -1.3468241702718833 0.17803686833140808\n",
      "* isna_5 -2.2213833417706925 0.026325008335499278\n",
      "isna_6 -0.2617796136561279 0.793491357072205\n",
      "isna_7 -0.8909035498642803 0.37298091572329806\n",
      "isna_8 -0.6980509343383379 0.48514534123655306\n",
      "isna_9 -0.5393439841397007 0.589649524697301\n",
      "isna_10 -0.7622002829475777 0.44594047726157915\n",
      "isna_11 -0.1035248797832757 0.9175464043670771\n",
      "isna_12 -0.6095281379895136 0.5421744277936988\n",
      "isna_13 -0.45265767845606597 0.6507952588133231\n",
      "isna_14 -0.681066949794218 0.49582912857498873\n",
      "isna_15 -0.0076954319495023404 0.9938599942603648\n",
      "isna_16 -0.4783142261813061 0.6324265724265041\n"
     ]
    },
    {
     "data": {
      "text/plain": [
       "0.029988079249523434"
      ]
     },
     "execution_count": 58,
     "metadata": {},
     "output_type": "execute_result"
    }
   ],
   "source": [
    "# 반복문을 통하여 나머지 변수에 대해서도 검정을 합니다.\n",
    "from scipy.stats import norm\n",
    "\n",
    "P_true = 0.2114\n",
    "P_var = P_true * (1 - P_true)\n",
    "\n",
    "A = 0\n",
    "for i in range(3, 17):\n",
    "    col = 'isna_{}'.format(i)\n",
    "    n_sample = df_basetable[col].sum()\n",
    "    P_sample_true = P_true\n",
    "    P_sample_var = P_var / n_sample\n",
    "    P_observed_true = df_basetable.loc[df_basetable[col], 'failure'].mean()\n",
    "    Z = -abs((P_observed_true - P_sample_true) / (P_sample_var ** 0.5))\n",
    "    pvalue = norm.cdf(Z) * 2\n",
    "    if pvalue >= 0.05:\n",
    "        print(col, Z, pvalue) # 귀무가설을 채택합니다\n",
    "    else:\n",
    "        print(\"*\", col, Z, pvalue) # 귀무가설을 기각합니다.\n",
    "        A += pvalue\n",
    "A"
   ]
  },
  {
   "cell_type": "markdown",
   "id": "df03a86a",
   "metadata": {},
   "source": [
    "## 단계 1-3\n",
    "\n",
    "검정 결과 귀무가설을 기각할 수 있는 경우는 총 두 건이다. \n",
    "\n",
    "해당 파생 변수명의 뒷 자리 번호 순으로 na_1, na_2로 파생 변수를 만들어 prob1 데이터셋을 생성하라."
   ]
  },
  {
   "cell_type": "code",
   "execution_count": 59,
   "id": "207e8c39",
   "metadata": {},
   "outputs": [],
   "source": [
    "# assign을 통하여 파생 변수를 추가하는 동시에 deep copy를 합니다.\n",
    "df_prob1 = df_basetable.assign(\n",
    "    na_1 = df_basetable['isna_3'],\n",
    "    na_2 = df_basetable['isna_5'],\n",
    ")"
   ]
  },
  {
   "cell_type": "markdown",
   "id": "c33bbf8c",
   "metadata": {},
   "source": [
    "A의 값을 소수점 넷째 자리에서 반올림하여 셋째 자리까지 출력하시오. \n",
    "\n",
    "**0.030**"
   ]
  },
  {
   "cell_type": "markdown",
   "id": "569d2d0f",
   "metadata": {},
   "source": [
    "# 문제 2\n",
    "\n",
    "첫째는 스프링 개발 업체들은 실험이 제품 별로 공정하게 진행이 됐는지를 의문을 가지고 있다.\n",
    "\n",
    "product_code에 따라 개발 업체가 다르다. \n",
    "\n",
    "product_code에 대해서 스프링에 가한 부하(loading)를 동일하게 했는지 조사하라.\n",
    "\n",
    "둘째는, attribute_0와 attribute_1은 스프링을 구성하는 주요 소재이다. \n",
    "\n",
    "failure와는 관계가 없음이 이전에 검증되었다. \n",
    "\n",
    "하지만, 이에 대한 재확인 요청을 받아 attribute_0와 attribute_1은 failure와 상관없음을 확인한다.\n",
    "\n",
    "이를 위해 다음 단계를 수행하라.\n"
   ]
  },
  {
   "cell_type": "code",
   "execution_count": null,
   "id": "8bb314a6",
   "metadata": {},
   "outputs": [],
   "source": []
  },
  {
   "cell_type": "markdown",
   "id": "cfc21275",
   "metadata": {},
   "source": [
    "## 단계 2-1\n",
    "\n",
    "prob1에서 입력 변수 loading에 결측이 없는 행들을 뽑아 prob2 데이터프레임을 만든다.\n",
    "\n",
    "Hint] prob2의 데이터 수는 21,257 이다.\n"
   ]
  },
  {
   "cell_type": "code",
   "execution_count": 63,
   "id": "d2ef461d",
   "metadata": {},
   "outputs": [
    {
     "data": {
      "text/plain": [
       "(21257, 42)"
      ]
     },
     "execution_count": 63,
     "metadata": {},
     "output_type": "execute_result"
    }
   ],
   "source": [
    "df_prob2 = df_prob1.loc[df_prob1['loading'].notna()].copy()\n",
    "df_prob2.shape"
   ]
  },
  {
   "cell_type": "markdown",
   "id": "82ebf527",
   "metadata": {},
   "source": [
    "## 단계 2-2\n",
    "\n",
    "prob2에 loading의 각 행들에 자연 로그 함수를 적용하여 파생 변수 loading_log를 만든다.\n"
   ]
  },
  {
   "cell_type": "code",
   "execution_count": 67,
   "id": "fb0152db",
   "metadata": {},
   "outputs": [],
   "source": [
    "df_prob2['loading_log'] = np.log(df_prob2['loading'])"
   ]
  },
  {
   "cell_type": "code",
   "execution_count": 68,
   "id": "6dc78de2",
   "metadata": {},
   "outputs": [
    {
     "data": {
      "image/png": "[encoded data removed]",
      "text/plain": [
       "<Figure size 1400x300 with 2 Axes>"
      ]
     },
     "metadata": {},
     "output_type": "display_data"
    }
   ],
   "source": [
    "# 로그 변환이 어떤 효과를 보였는지, 보여주기 위한 참고용 코드입니다.\n",
    "# 좌측으로 치우친 loading 변수가 log 변환을 통해 좌우 대칭형으로 변환되었음을 확인할 수 있습니다.\n",
    "\n",
    "fig, axes = plt.subplots(1, 2, figsize=(14, 3) )\n",
    "sns.histplot(data=df_prob2, x='loading', ax=axes[0])\n",
    "sns.histplot(data=df_prob2, x='loading_log', ax=axes[1])\n",
    "plt.show()"
   ]
  },
  {
   "cell_type": "code",
   "execution_count": 90,
   "id": "1c0b0be2",
   "metadata": {},
   "outputs": [
    {
     "data": {
      "text/plain": [
       "(KstestResult(statistic=0.0600601378226141, pvalue=4.251798083024511e-67),\n",
       " KstestResult(statistic=0.0600601378226141, pvalue=4.251798083024511e-67))"
      ]
     },
     "execution_count": 90,
     "metadata": {},
     "output_type": "execute_result"
    }
   ],
   "source": [
    "# 참고 사항 입니다: Kolmogorov-smironof  test를 이용하여 정규성 검정을 해봅니다.\n",
    "from scipy.stats import kstest, norm, zscore\n",
    "# one-sample test이므로, 첫 번째 매개변수(rvs) 대상 표본집합, 그리고, 두 번째 매개변수(cdf)에는 norm.cdf(누적분포함수)를 적용합니다.\n",
    "# norm.cdf 기본설정이 loc(평균)=0 , scale(표준편차)=1이므로, 표집을 표준화해서 넘겨야, 정규성 검정이 성립합니다.\n",
    "# 표준화시 표본표준편차를 사용했습니다.\n",
    "# pandas의 std, var의 기본설정은 표본표준편차(ddof=1)입니다.\n",
    "# 반면, numpy, zscore의 기본설정은 모표준편차(ddof=0)입니다.\n",
    "(\n",
    "    kstest(zscore(df_prob2['loading'], ddof=1), norm.cdf),\n",
    "    kstest((df_prob2['loading'] - df_prob2['loading'].mean()) / df_prob2['loading'].std(), norm.cdf)\n",
    ")"
   ]
  },
  {
   "cell_type": "code",
   "execution_count": 87,
   "id": "0be2b4aa",
   "metadata": {},
   "outputs": [
    {
     "data": {
      "text/plain": [
       "KstestResult(statistic=0.0600601378226141, pvalue=4.251798083024511e-67)"
      ]
     },
     "execution_count": 87,
     "metadata": {},
     "output_type": "execute_result"
    }
   ],
   "source": [
    "import functools\n",
    "# 표준화하지 않고 functools의 partial 함수를 이용하여 norm.cdf의 default 설정을 변경해서 풀어 봅니다.\n",
    "kstest(\n",
    "    df_prob2['loading'],\n",
    "    functools.partial(norm.cdf, loc=df_prob2['loading'].mean(), scale=df_prob2['loading'].std(ddof=1))\n",
    ")"
   ]
  },
  {
   "cell_type": "code",
   "execution_count": 84,
   "id": "4d17965c",
   "metadata": {},
   "outputs": [
    {
     "data": {
      "text/plain": [
       "KstestResult(statistic=0.004268034315027425, pvalue=0.8318549070535131)"
      ]
     },
     "execution_count": 84,
     "metadata": {},
     "output_type": "execute_result"
    }
   ],
   "source": [
    "kstest(zscore(df_prob2['loading_log'], ddof=1), norm.cdf)"
   ]
  },
  {
   "cell_type": "markdown",
   "id": "ea2245b2",
   "metadata": {},
   "source": [
    "## 단계 2-3\n",
    "\n",
    "loading_log가 product_code 각각에 대해서 정규성을 지니고 있는지 확인하고자 한다.\n",
    "\n",
    "이를 위해 Jarque-Bera로 검정하고 결과의 p-value가 0.05가 넘는 product_code의 수를 B라고 하자.\n",
    "\n",
    "---\n",
    "\n",
    "**함수 가이드**\n",
    "\n",
    " scipy.stats 에서 제공 기능 활용\n",
    " \n",
    " 문제 지시사항 외 Default 값 사용\n",
    " \n",
    "---\n"
   ]
  },
  {
   "cell_type": "code",
   "execution_count": 94,
   "id": "60bd8734",
   "metadata": {},
   "outputs": [
    {
     "name": "stdout",
     "output_type": "stream",
     "text": [
      "Jarque_beraResult(statistic=1.467731470333654, pvalue=0.4800496537264637)\n",
      "Jarque_beraResult(statistic=0.6168837955943998, pvalue=0.7345906322931469)\n",
      "Jarque_beraResult(statistic=7.536229242478234, pvalue=0.023095566154546443)\n",
      "Jarque_beraResult(statistic=0.04839464502051384, pvalue=0.9760930856160965)\n"
     ]
    },
    {
     "data": {
      "text/plain": [
       "3"
      ]
     },
     "execution_count": 94,
     "metadata": {},
     "output_type": "execute_result"
    }
   ],
   "source": [
    "# 방법1: 반복문을 이용해봅니다.\n",
    "from scipy.stats import jarque_bera\n",
    "B = 0\n",
    "for i in df_prob2['product_code'].unique():\n",
    "    result_jb = jarque_bera(df_prob2.loc[df_prob2['product_code'] == i, 'loading_log'])\n",
    "    print(result_jb)\n",
    "    if result_jb.pvalue > 0.05:\n",
    "        B += 1\n",
    "B"
   ]
  },
  {
   "cell_type": "code",
   "execution_count": 101,
   "id": "6df03308",
   "metadata": {},
   "outputs": [
    {
     "data": {
      "text/html": [
       "<div>\n",
       "<style scoped>\n",
       "    .dataframe tbody tr th:only-of-type {\n",
       "        vertical-align: middle;\n",
       "    }\n",
       "\n",
       "    .dataframe tbody tr th {\n",
       "        vertical-align: top;\n",
       "    }\n",
       "\n",
       "    .dataframe thead th {\n",
       "        text-align: right;\n",
       "    }\n",
       "</style>\n",
       "<table border=\"1\" class=\"dataframe\">\n",
       "  <thead>\n",
       "    <tr style=\"text-align: right;\">\n",
       "      <th></th>\n",
       "      <th>stat</th>\n",
       "      <th>pvalue</th>\n",
       "    </tr>\n",
       "    <tr>\n",
       "      <th>product_code</th>\n",
       "      <th></th>\n",
       "      <th></th>\n",
       "    </tr>\n",
       "  </thead>\n",
       "  <tbody>\n",
       "    <tr>\n",
       "      <td>A</td>\n",
       "      <td>1.467731</td>\n",
       "      <td>0.480050</td>\n",
       "    </tr>\n",
       "    <tr>\n",
       "      <td>B</td>\n",
       "      <td>0.616884</td>\n",
       "      <td>0.734591</td>\n",
       "    </tr>\n",
       "    <tr>\n",
       "      <td>E</td>\n",
       "      <td>0.048395</td>\n",
       "      <td>0.976093</td>\n",
       "    </tr>\n",
       "  </tbody>\n",
       "</table>\n",
       "</div>"
      ],
      "text/plain": [
       "                  stat    pvalue\n",
       "product_code                    \n",
       "A             1.467731  0.480050\n",
       "B             0.616884  0.734591\n",
       "E             0.048395  0.976093"
      ]
     },
     "execution_count": 101,
     "metadata": {},
     "output_type": "execute_result"
    }
   ],
   "source": [
    "# 방법2: groupby를 이용해봅니다\n",
    "df_jb_result = df_prob2.groupby('product_code')['loading_log']\\\n",
    "        .apply(lambda x: pd.Series(jarque_bera(x), index=['stat', 'pvalue']))\\\n",
    "        .unstack()\\\n",
    "        .pipe(lambda x: x.loc[x['pvalue'] > 0.05])\n",
    "df_jb_result"
   ]
  },
  {
   "cell_type": "code",
   "execution_count": 142,
   "id": "4d5f929c",
   "metadata": {},
   "outputs": [
    {
     "data": {
      "text/plain": [
       "3"
      ]
     },
     "execution_count": 142,
     "metadata": {},
     "output_type": "execute_result"
    }
   ],
   "source": [
    "B = len(df_jb_result)\n",
    "B"
   ]
  },
  {
   "cell_type": "markdown",
   "id": "dce7e5cf",
   "metadata": {},
   "source": [
    "## 단계 2-4\n",
    "\n",
    "loading_log 변수를 product_code로 구분했을 때, \n",
    "\n",
    "등분산성을 보이는지 Bartlett 검정을 통해 확인한다.\n",
    "\n",
    "검정 결과에서 p-value를 C라고 한다.\n",
    "\n",
    "---\n",
    "\n",
    "**함수 가이드**\n",
    "\n",
    " scipy.stats 에서 제공 기능 활용\n",
    " \n",
    " 문제 지시사항 외 Default 값 사용\n",
    " \n",
    "---\n"
   ]
  },
  {
   "cell_type": "code",
   "execution_count": 103,
   "id": "26b12200",
   "metadata": {},
   "outputs": [
    {
     "data": {
      "text/plain": [
       "array(['A', 'B', 'C', 'E'], dtype=object)"
      ]
     },
     "execution_count": 103,
     "metadata": {},
     "output_type": "execute_result"
    }
   ],
   "source": [
    "df_prob2['product_code'].unique()"
   ]
  },
  {
   "cell_type": "code",
   "execution_count": 105,
   "id": "ec4d8245",
   "metadata": {},
   "outputs": [
    {
     "data": {
      "text/plain": [
       "(BartlettResult(statistic=1.928667047072185, pvalue=0.5873433093297675),\n",
       " 0.5873433093297675)"
      ]
     },
     "execution_count": 105,
     "metadata": {},
     "output_type": "execute_result"
    }
   ],
   "source": [
    "# 방법1: 하드코딩으로 해봅니다\n",
    "from scipy.stats import bartlett\n",
    "result_2_4 = bartlett(\n",
    "    df_prob2.loc[df_prob2['product_code'] == 'A', 'loading_log'],\n",
    "    df_prob2.loc[df_prob2['product_code'] == 'B', 'loading_log'],\n",
    "    df_prob2.loc[df_prob2['product_code'] == 'C', 'loading_log'],\n",
    "    df_prob2.loc[df_prob2['product_code'] == 'E', 'loading_log']\n",
    ")\n",
    "C = result_2_4.pvalue\n",
    "result_2_4, C"
   ]
  },
  {
   "cell_type": "code",
   "execution_count": 110,
   "id": "333d324b",
   "metadata": {},
   "outputs": [
    {
     "data": {
      "text/plain": [
       "BartlettResult(statistic=1.928667047072185, pvalue=0.5873433093297675)"
      ]
     },
     "execution_count": 110,
     "metadata": {},
     "output_type": "execute_result"
    }
   ],
   "source": [
    "# 방법2: groupby ~ agg(list) 와 list unpacking을 이용해봅니다.\n",
    "result_2_4 = bartlett(\n",
    "    *df_prob2.groupby('product_code')['loading_log'].agg(list).tolist()\n",
    ")\n",
    "C = result_2_4.pvalue\n",
    "result_2_4, C"
   ]
  },
  {
   "cell_type": "markdown",
   "id": "b058c6b2",
   "metadata": {},
   "source": [
    "## 단계 2-5\n",
    "\n",
    "product_code에 대한 분산분석(ANOVA)을 통해서 loading_log 평균에 차이가 있는지 검정한다.\n",
    "\n",
    "그 결과 중 p-value를 D라고 한다.\n",
    "\n",
    "---\n",
    "\n",
    "**함수 가이드**\n",
    "\n",
    " scipy.stats 제공 기능 활용\n",
    " \n",
    " 문제 지시사항 외 Default 값 사용\n",
    " \n",
    "---\n"
   ]
  },
  {
   "cell_type": "code",
   "execution_count": 129,
   "id": "ec47f9e0",
   "metadata": {},
   "outputs": [
    {
     "data": {
      "text/plain": [
       "(F_onewayResult(statistic=0.37177284134760413, pvalue=0.7733782072320899),\n",
       " 0.7733782072320899)"
      ]
     },
     "execution_count": 129,
     "metadata": {},
     "output_type": "execute_result"
    }
   ],
   "source": [
    "# 일원산분산분석은 scipy.stats의 함수로 제공되고 있습니다.\n",
    "# 함수명이 직관적이지 않습니다. 일원산(oneway) 분산분석(f분포사용 ) => f_oneway\n",
    "# bartlett에서 사용했던 groupby ~ agg(list) 방법을 응용해봅니다.\n",
    "\n",
    "from scipy.stats import f_oneway\n",
    "result_2_5 = f_oneway(\n",
    "    *df_prob2.groupby('product_code')['loading_log'].agg(list).tolist()\n",
    ")\n",
    "D = result_2_5.pvalue\n",
    "result_2_5, D"
   ]
  },
  {
   "cell_type": "markdown",
   "id": "b3c23d2c",
   "metadata": {},
   "source": [
    "## 단계 2-6\n",
    "\n",
    "Chi-square 검정을 통해 attribute_0, attribute_1의 결합값이 failure와 연관이 있는지 조사하라. \n",
    "\n",
    "attribute_0, attribute_1의 결합값의 의미 attribute_0=material_7, attribute_1=material_8 이라면, 이 둘의 결합값은\n",
    "matertial_7material_8를 의미한다.\n",
    "\n",
    "(유의 수준 1%) 연관이 있다면 E값은 1 없으면 0으로 한다.\n",
    "\n",
    "---\n",
    "\n",
    "**함수 가이드**\n",
    "\n",
    " scipy.stats.chi2_contingency, correction=False\n",
    " \n",
    " 문제 지시사항 외 Default 값 사용\n",
    " \n",
    "---\n"
   ]
  },
  {
   "cell_type": "markdown",
   "id": "05123151",
   "metadata": {},
   "source": [
    "$Chi^2$ 검정을 하려면 표집에서 빈도수 테이블 (observed)을 구해야 합니다. 방법을 정리해 봅니다."
   ]
  },
  {
   "cell_type": "code",
   "execution_count": 132,
   "id": "f4f507d8",
   "metadata": {},
   "outputs": [
    {
     "data": {
      "text/html": [
       "<div>\n",
       "<style scoped>\n",
       "    .dataframe tbody tr th:only-of-type {\n",
       "        vertical-align: middle;\n",
       "    }\n",
       "\n",
       "    .dataframe tbody tr th {\n",
       "        vertical-align: top;\n",
       "    }\n",
       "\n",
       "    .dataframe thead th {\n",
       "        text-align: right;\n",
       "    }\n",
       "</style>\n",
       "<table border=\"1\" class=\"dataframe\">\n",
       "  <thead>\n",
       "    <tr style=\"text-align: right;\">\n",
       "      <th>failure</th>\n",
       "      <th>0</th>\n",
       "      <th>1</th>\n",
       "    </tr>\n",
       "    <tr>\n",
       "      <th>row_0</th>\n",
       "      <th></th>\n",
       "      <th></th>\n",
       "    </tr>\n",
       "  </thead>\n",
       "  <tbody>\n",
       "    <tr>\n",
       "      <td>material_5material_5</td>\n",
       "      <td>4162</td>\n",
       "      <td>1047</td>\n",
       "    </tr>\n",
       "    <tr>\n",
       "      <td>material_7material_6</td>\n",
       "      <td>4181</td>\n",
       "      <td>1100</td>\n",
       "    </tr>\n",
       "    <tr>\n",
       "      <td>material_7material_8</td>\n",
       "      <td>8413</td>\n",
       "      <td>2354</td>\n",
       "    </tr>\n",
       "  </tbody>\n",
       "</table>\n",
       "</div>"
      ],
      "text/plain": [
       "failure                  0     1\n",
       "row_0                           \n",
       "material_5material_5  4162  1047\n",
       "material_7material_6  4181  1100\n",
       "material_7material_8  8413  2354"
      ]
     },
     "execution_count": 132,
     "metadata": {},
     "output_type": "execute_result"
    }
   ],
   "source": [
    "# 방법1: pd.crosstab을 이용하는 방법\n",
    "pd.crosstab(\n",
    "    index=df_prob2['attribute_0'] + df_prob2['attribute_1'], \n",
    "    columns=df_prob2['failure']\n",
    ")"
   ]
  },
  {
   "cell_type": "code",
   "execution_count": 130,
   "id": "ca529314",
   "metadata": {},
   "outputs": [
    {
     "data": {
      "text/html": [
       "<div>\n",
       "<style scoped>\n",
       "    .dataframe tbody tr th:only-of-type {\n",
       "        vertical-align: middle;\n",
       "    }\n",
       "\n",
       "    .dataframe tbody tr th {\n",
       "        vertical-align: top;\n",
       "    }\n",
       "\n",
       "    .dataframe thead th {\n",
       "        text-align: right;\n",
       "    }\n",
       "</style>\n",
       "<table border=\"1\" class=\"dataframe\">\n",
       "  <thead>\n",
       "    <tr style=\"text-align: right;\">\n",
       "      <th>failure</th>\n",
       "      <th>0</th>\n",
       "      <th>1</th>\n",
       "    </tr>\n",
       "    <tr>\n",
       "      <th>attr01</th>\n",
       "      <th></th>\n",
       "      <th></th>\n",
       "    </tr>\n",
       "  </thead>\n",
       "  <tbody>\n",
       "    <tr>\n",
       "      <td>material_5material_5</td>\n",
       "      <td>4162</td>\n",
       "      <td>1047</td>\n",
       "    </tr>\n",
       "    <tr>\n",
       "      <td>material_7material_6</td>\n",
       "      <td>4181</td>\n",
       "      <td>1100</td>\n",
       "    </tr>\n",
       "    <tr>\n",
       "      <td>material_7material_8</td>\n",
       "      <td>8413</td>\n",
       "      <td>2354</td>\n",
       "    </tr>\n",
       "  </tbody>\n",
       "</table>\n",
       "</div>"
      ],
      "text/plain": [
       "failure                  0     1\n",
       "attr01                          \n",
       "material_5material_5  4162  1047\n",
       "material_7material_6  4181  1100\n",
       "material_7material_8  8413  2354"
      ]
     },
     "execution_count": 130,
     "metadata": {},
     "output_type": "execute_result"
    }
   ],
   "source": [
    "# 방법2: pivot_table을 이용한 방법: aggfunc='size'를 넣으면 빈도수를 계산하게 됩니다.\n",
    "df_prob2[['attribute_0', 'attribute_1', 'failure']].assign(\n",
    "    attr01 = lambda x: x['attribute_0'] + x['attribute_1']\n",
    ").pivot_table(index='attr01', columns='failure', aggfunc='size')"
   ]
  },
  {
   "cell_type": "code",
   "execution_count": 131,
   "id": "81cdc5ee",
   "metadata": {},
   "outputs": [
    {
     "data": {
      "text/html": [
       "<div>\n",
       "<style scoped>\n",
       "    .dataframe tbody tr th:only-of-type {\n",
       "        vertical-align: middle;\n",
       "    }\n",
       "\n",
       "    .dataframe tbody tr th {\n",
       "        vertical-align: top;\n",
       "    }\n",
       "\n",
       "    .dataframe thead th {\n",
       "        text-align: right;\n",
       "    }\n",
       "</style>\n",
       "<table border=\"1\" class=\"dataframe\">\n",
       "  <thead>\n",
       "    <tr style=\"text-align: right;\">\n",
       "      <th>failure</th>\n",
       "      <th>0</th>\n",
       "      <th>1</th>\n",
       "    </tr>\n",
       "    <tr>\n",
       "      <th>attr01</th>\n",
       "      <th></th>\n",
       "      <th></th>\n",
       "    </tr>\n",
       "  </thead>\n",
       "  <tbody>\n",
       "    <tr>\n",
       "      <td>material_5material_5</td>\n",
       "      <td>4162</td>\n",
       "      <td>1047</td>\n",
       "    </tr>\n",
       "    <tr>\n",
       "      <td>material_7material_6</td>\n",
       "      <td>4181</td>\n",
       "      <td>1100</td>\n",
       "    </tr>\n",
       "    <tr>\n",
       "      <td>material_7material_8</td>\n",
       "      <td>8413</td>\n",
       "      <td>2354</td>\n",
       "    </tr>\n",
       "  </tbody>\n",
       "</table>\n",
       "</div>"
      ],
      "text/plain": [
       "failure                  0     1\n",
       "attr01                          \n",
       "material_5material_5  4162  1047\n",
       "material_7material_6  4181  1100\n",
       "material_7material_8  8413  2354"
      ]
     },
     "execution_count": 131,
     "metadata": {},
     "output_type": "execute_result"
    }
   ],
   "source": [
    "# 방법3: groupby를 이용한 방법: groupby ~ size()는 수준들의 빈도수를 계산하게 됩니다.\n",
    "# unstack을 통해 index의 하나의 수준을 column에 위치시킵니다.\n",
    "df_prob2[['attribute_0', 'attribute_1', 'failure']].assign(\n",
    "    attr01 = lambda x: x['attribute_0'] + x['attribute_1']\n",
    ").groupby(['attr01', 'failure']).size().unstack()"
   ]
  },
  {
   "cell_type": "code",
   "execution_count": 143,
   "id": "8b3530be",
   "metadata": {},
   "outputs": [
    {
     "data": {
      "text/plain": [
       "0"
      ]
     },
     "execution_count": 143,
     "metadata": {},
     "output_type": "execute_result"
    }
   ],
   "source": [
    "from scipy.stats import chi2_contingency\n",
    "# 빈도수 테이블을 전달을 하고 요건에서 제시한 correction=False로 설정해서 검정 결과를 뽑아냅니다.\n",
    "result_2_6 = chi2_contingency(\n",
    "    pd.crosstab(\n",
    "        index=df_prob2['attribute_0'] + df_prob2['attribute_1'], \n",
    "        columns=df_prob2['failure']\n",
    "    ), correction=False\n",
    ")\n",
    "# H0: 독립 -> 연관 x\n",
    "# H1: 독립 x -> 연관 o\n",
    "E = 1 if result_2_6[1] < 0.01 else 0\n",
    "E"
   ]
  },
  {
   "cell_type": "code",
   "execution_count": 134,
   "id": "73f149ac",
   "metadata": {},
   "outputs": [
    {
     "data": {
      "text/plain": [
       "(3, 0.5873433093297675, 0.7733782072320899, 0, 4.360721516561858)"
      ]
     },
     "execution_count": 134,
     "metadata": {},
     "output_type": "execute_result"
    }
   ],
   "source": [
    "B, C, D, E, B + C + D + E"
   ]
  },
  {
   "cell_type": "markdown",
   "id": "af42805f",
   "metadata": {},
   "source": [
    "B + C + D + E의 값을 소수점 셋째 자리에서 반올림하여 둘째 자리까지 출력하시오.\n",
    "\n",
    "**4.36**"
   ]
  },
  {
   "cell_type": "markdown",
   "id": "e3fe1afc",
   "metadata": {},
   "source": [
    "# 문제 3\n",
    "\n",
    "로지스틱 회귀모델로 수치형 변수 measurement_0 ~ 17, \n",
    "\n",
    "loading과 이진형인 na_1, na_2 중에서 최적의 성능을 보이는 입력 변수들을 찾고자 한다.\n"
   ]
  },
  {
   "cell_type": "code",
   "execution_count": null,
   "id": "17a63c49",
   "metadata": {},
   "outputs": [],
   "source": []
  },
  {
   "cell_type": "markdown",
   "id": "a1ec19e2",
   "metadata": {},
   "source": [
    "## 단계 3-1\n",
    "\n",
    "prob1을 복사하여 prob3을 만든다. loading의 결측치는 loading의 평균으로 대치한다.  "
   ]
  },
  {
   "cell_type": "code",
   "execution_count": 146,
   "id": "74e376a6",
   "metadata": {},
   "outputs": [],
   "source": [
    "df_prob3 = df_prob1.copy()\n",
    "df_prob3['loading'] = df_prob3['loading'].fillna(df_prob3['loading'].mean())"
   ]
  },
  {
   "cell_type": "markdown",
   "id": "61eb5594",
   "metadata": {},
   "source": [
    "## 단계 3-2: \n",
    "    \n",
    "prob3를 80%는 학습데이터 prob3_train으로 20%는 테스트데이터 prob3_test로 나눈다. \n",
    "\n",
    "prob3_train의 failure가 1인 비율과 prob3_test의 failure가 1의 비율을 동일하게 한다.\n",
    "\n",
    "\n",
    "---\n",
    "\n",
    "**함수 가이드**\n",
    "\n",
    " sklearn.model_selection.train_test_split, random_state=123, \n",
    " \n",
    " train과 test의 failure의 비율은 stratify 매개 변수를 이용하여 맞춘다.\n",
    " \n",
    " 문제 지시사항 외 Default 값 사용\n",
    " \n",
    "---"
   ]
  },
  {
   "cell_type": "code",
   "execution_count": 148,
   "id": "ac987b08",
   "metadata": {},
   "outputs": [],
   "source": [
    "from sklearn.model_selection import train_test_split\n",
    "\n",
    "df_prob3_train, df_prob3_test = train_test_split(\n",
    "    df_prob3, train_size=0.80, random_state=123, stratify= df_prob3['failure']\n",
    ")\n",
    "df_prob3_train, df_prob3_test = df_prob3_train.copy(), df_prob3_test.copy()"
   ]
  },
  {
   "cell_type": "code",
   "execution_count": 149,
   "id": "4bc50fdf",
   "metadata": {},
   "outputs": [
    {
     "data": {
      "text/plain": [
       "0    0.788535\n",
       "1    0.211465\n",
       "Name: failure, dtype: float64"
      ]
     },
     "execution_count": 149,
     "metadata": {},
     "output_type": "execute_result"
    }
   ],
   "source": [
    "df_prob3_train['failure'].value_counts(normalize=True)"
   ]
  },
  {
   "cell_type": "code",
   "execution_count": 150,
   "id": "61a2af71",
   "metadata": {},
   "outputs": [
    {
     "data": {
      "text/plain": [
       "0    0.788677\n",
       "1    0.211323\n",
       "Name: failure, dtype: float64"
      ]
     },
     "execution_count": 150,
     "metadata": {},
     "output_type": "execute_result"
    }
   ],
   "source": [
    "df_prob3_test['failure'].value_counts(normalize=True)"
   ]
  },
  {
   "cell_type": "markdown",
   "id": "e7716c3a",
   "metadata": {},
   "source": [
    "## 단계 3-3\n",
    "\n",
    "prob3_train의 수치형 입력 변수 loading, measurement_0 ~ 17을 표준화한다. \n",
    "\n",
    "prob3_train의 표준화 설정으로 prob3_test의 loading, measurement_0 ~ 17에도 적용한다. \n",
    "\n",
    "표준화 처리한 prob3_train과 prob3_test는 문제 4와 문제 5에서 사용한다.\n",
    "\n",
    "\n",
    "---\n",
    "\n",
    "**함수 가이드**\n",
    "\n",
    " sklearn.preprocessing 제공 기능 활용, \n",
    " \n",
    " 문제 지시사항 외 Default 값 사용\n",
    " \n",
    "---\n"
   ]
  },
  {
   "cell_type": "code",
   "execution_count": 152,
   "id": "bf17f958",
   "metadata": {},
   "outputs": [],
   "source": [
    "from sklearn.preprocessing import StandardScaler\n",
    "\n",
    "std_scaler = StandardScaler()\n",
    "\n",
    "X_std = ['loading'] + ['measurement_{}'.format(i) for i in range(0, 18)]\n",
    "df_prob3_train[X_std] = std_scaler.fit_transform(df_prob3_train[X_std])\n",
    "df_prob3_test[X_std] = std_scaler.transform(df_prob3_test[X_std])"
   ]
  },
  {
   "cell_type": "code",
   "execution_count": 153,
   "id": "03f88524",
   "metadata": {},
   "outputs": [
    {
     "data": {
      "text/html": [
       "<div>\n",
       "<style scoped>\n",
       "    .dataframe tbody tr th:only-of-type {\n",
       "        vertical-align: middle;\n",
       "    }\n",
       "\n",
       "    .dataframe tbody tr th {\n",
       "        vertical-align: top;\n",
       "    }\n",
       "\n",
       "    .dataframe thead th {\n",
       "        text-align: right;\n",
       "    }\n",
       "</style>\n",
       "<table border=\"1\" class=\"dataframe\">\n",
       "  <thead>\n",
       "    <tr style=\"text-align: right;\">\n",
       "      <th></th>\n",
       "      <th>loading</th>\n",
       "      <th>measurement_0</th>\n",
       "      <th>measurement_1</th>\n",
       "      <th>measurement_2</th>\n",
       "      <th>measurement_3</th>\n",
       "      <th>measurement_4</th>\n",
       "      <th>measurement_5</th>\n",
       "      <th>measurement_6</th>\n",
       "      <th>measurement_7</th>\n",
       "      <th>measurement_8</th>\n",
       "      <th>measurement_9</th>\n",
       "      <th>measurement_10</th>\n",
       "      <th>measurement_11</th>\n",
       "      <th>measurement_12</th>\n",
       "      <th>measurement_13</th>\n",
       "      <th>measurement_14</th>\n",
       "      <th>measurement_15</th>\n",
       "      <th>measurement_16</th>\n",
       "      <th>measurement_17</th>\n",
       "    </tr>\n",
       "  </thead>\n",
       "  <tbody>\n",
       "    <tr>\n",
       "      <td>mean</td>\n",
       "      <td>2.139989e-16</td>\n",
       "      <td>-8.920072e-17</td>\n",
       "      <td>-1.080343e-16</td>\n",
       "      <td>-6.871146e-17</td>\n",
       "      <td>2.076245e-15</td>\n",
       "      <td>4.730122e-16</td>\n",
       "      <td>1.432593e-15</td>\n",
       "      <td>-2.142059e-16</td>\n",
       "      <td>-6.689019e-16</td>\n",
       "      <td>-2.198767e-15</td>\n",
       "      <td>-1.998841e-15</td>\n",
       "      <td>3.909517e-16</td>\n",
       "      <td>-1.405532e-15</td>\n",
       "      <td>-4.996068e-16</td>\n",
       "      <td>9.722051e-16</td>\n",
       "      <td>-4.014653e-15</td>\n",
       "      <td>-5.573493e-16</td>\n",
       "      <td>3.583551e-16</td>\n",
       "      <td>-4.008858e-16</td>\n",
       "    </tr>\n",
       "    <tr>\n",
       "      <td>std</td>\n",
       "      <td>1.000029e+00</td>\n",
       "      <td>1.000029e+00</td>\n",
       "      <td>1.000029e+00</td>\n",
       "      <td>1.000029e+00</td>\n",
       "      <td>1.000029e+00</td>\n",
       "      <td>1.000029e+00</td>\n",
       "      <td>1.000029e+00</td>\n",
       "      <td>1.000029e+00</td>\n",
       "      <td>1.000029e+00</td>\n",
       "      <td>1.000029e+00</td>\n",
       "      <td>1.000029e+00</td>\n",
       "      <td>1.000029e+00</td>\n",
       "      <td>1.000029e+00</td>\n",
       "      <td>1.000029e+00</td>\n",
       "      <td>1.000029e+00</td>\n",
       "      <td>1.000029e+00</td>\n",
       "      <td>1.000029e+00</td>\n",
       "      <td>1.000029e+00</td>\n",
       "      <td>1.000029e+00</td>\n",
       "    </tr>\n",
       "  </tbody>\n",
       "</table>\n",
       "</div>"
      ],
      "text/plain": [
       "           loading  measurement_0  measurement_1  measurement_2  \\\n",
       "mean  2.139989e-16  -8.920072e-17  -1.080343e-16  -6.871146e-17   \n",
       "std   1.000029e+00   1.000029e+00   1.000029e+00   1.000029e+00   \n",
       "\n",
       "      measurement_3  measurement_4  measurement_5  measurement_6  \\\n",
       "mean   2.076245e-15   4.730122e-16   1.432593e-15  -2.142059e-16   \n",
       "std    1.000029e+00   1.000029e+00   1.000029e+00   1.000029e+00   \n",
       "\n",
       "      measurement_7  measurement_8  measurement_9  measurement_10  \\\n",
       "mean  -6.689019e-16  -2.198767e-15  -1.998841e-15    3.909517e-16   \n",
       "std    1.000029e+00   1.000029e+00   1.000029e+00    1.000029e+00   \n",
       "\n",
       "      measurement_11  measurement_12  measurement_13  measurement_14  \\\n",
       "mean   -1.405532e-15   -4.996068e-16    9.722051e-16   -4.014653e-15   \n",
       "std     1.000029e+00    1.000029e+00    1.000029e+00    1.000029e+00   \n",
       "\n",
       "      measurement_15  measurement_16  measurement_17  \n",
       "mean   -5.573493e-16    3.583551e-16   -4.008858e-16  \n",
       "std     1.000029e+00    1.000029e+00    1.000029e+00  "
      ]
     },
     "execution_count": 153,
     "metadata": {},
     "output_type": "execute_result"
    }
   ],
   "source": [
    "df_prob3_train[X_std].agg(['mean', 'std'])"
   ]
  },
  {
   "cell_type": "code",
   "execution_count": 154,
   "id": "6d8dbcdc",
   "metadata": {},
   "outputs": [
    {
     "data": {
      "text/html": [
       "<div>\n",
       "<style scoped>\n",
       "    .dataframe tbody tr th:only-of-type {\n",
       "        vertical-align: middle;\n",
       "    }\n",
       "\n",
       "    .dataframe tbody tr th {\n",
       "        vertical-align: top;\n",
       "    }\n",
       "\n",
       "    .dataframe thead th {\n",
       "        text-align: right;\n",
       "    }\n",
       "</style>\n",
       "<table border=\"1\" class=\"dataframe\">\n",
       "  <thead>\n",
       "    <tr style=\"text-align: right;\">\n",
       "      <th></th>\n",
       "      <th>loading</th>\n",
       "      <th>measurement_0</th>\n",
       "      <th>measurement_1</th>\n",
       "      <th>measurement_2</th>\n",
       "      <th>measurement_3</th>\n",
       "      <th>measurement_4</th>\n",
       "      <th>measurement_5</th>\n",
       "      <th>measurement_6</th>\n",
       "      <th>measurement_7</th>\n",
       "      <th>measurement_8</th>\n",
       "      <th>measurement_9</th>\n",
       "      <th>measurement_10</th>\n",
       "      <th>measurement_11</th>\n",
       "      <th>measurement_12</th>\n",
       "      <th>measurement_13</th>\n",
       "      <th>measurement_14</th>\n",
       "      <th>measurement_15</th>\n",
       "      <th>measurement_16</th>\n",
       "      <th>measurement_17</th>\n",
       "    </tr>\n",
       "  </thead>\n",
       "  <tbody>\n",
       "    <tr>\n",
       "      <td>mean</td>\n",
       "      <td>-0.012128</td>\n",
       "      <td>0.002899</td>\n",
       "      <td>-0.018824</td>\n",
       "      <td>0.026778</td>\n",
       "      <td>0.008819</td>\n",
       "      <td>0.004858</td>\n",
       "      <td>0.017221</td>\n",
       "      <td>-0.008580</td>\n",
       "      <td>-0.013296</td>\n",
       "      <td>-0.001396</td>\n",
       "      <td>0.022965</td>\n",
       "      <td>-0.003753</td>\n",
       "      <td>-0.000548</td>\n",
       "      <td>0.025345</td>\n",
       "      <td>0.010671</td>\n",
       "      <td>0.016924</td>\n",
       "      <td>-0.001131</td>\n",
       "      <td>0.044992</td>\n",
       "      <td>0.011926</td>\n",
       "    </tr>\n",
       "    <tr>\n",
       "      <td>std</td>\n",
       "      <td>0.988545</td>\n",
       "      <td>1.017625</td>\n",
       "      <td>0.978095</td>\n",
       "      <td>1.015628</td>\n",
       "      <td>1.011319</td>\n",
       "      <td>0.986469</td>\n",
       "      <td>0.982998</td>\n",
       "      <td>0.995606</td>\n",
       "      <td>0.982849</td>\n",
       "      <td>1.000750</td>\n",
       "      <td>1.020788</td>\n",
       "      <td>1.021548</td>\n",
       "      <td>0.992102</td>\n",
       "      <td>0.993806</td>\n",
       "      <td>0.998137</td>\n",
       "      <td>1.005824</td>\n",
       "      <td>0.991199</td>\n",
       "      <td>0.999155</td>\n",
       "      <td>0.999505</td>\n",
       "    </tr>\n",
       "  </tbody>\n",
       "</table>\n",
       "</div>"
      ],
      "text/plain": [
       "       loading  measurement_0  measurement_1  measurement_2  measurement_3  \\\n",
       "mean -0.012128       0.002899      -0.018824       0.026778       0.008819   \n",
       "std   0.988545       1.017625       0.978095       1.015628       1.011319   \n",
       "\n",
       "      measurement_4  measurement_5  measurement_6  measurement_7  \\\n",
       "mean       0.004858       0.017221      -0.008580      -0.013296   \n",
       "std        0.986469       0.982998       0.995606       0.982849   \n",
       "\n",
       "      measurement_8  measurement_9  measurement_10  measurement_11  \\\n",
       "mean      -0.001396       0.022965       -0.003753       -0.000548   \n",
       "std        1.000750       1.020788        1.021548        0.992102   \n",
       "\n",
       "      measurement_12  measurement_13  measurement_14  measurement_15  \\\n",
       "mean        0.025345        0.010671        0.016924       -0.001131   \n",
       "std         0.993806        0.998137        1.005824        0.991199   \n",
       "\n",
       "      measurement_16  measurement_17  \n",
       "mean        0.044992        0.011926  \n",
       "std         0.999155        0.999505  "
      ]
     },
     "execution_count": 154,
     "metadata": {},
     "output_type": "execute_result"
    }
   ],
   "source": [
    "df_prob3_test[X_std].agg(['mean', 'std'])"
   ]
  },
  {
   "cell_type": "markdown",
   "id": "b20b6ef8",
   "metadata": {},
   "source": [
    "## 단계 3-4\n",
    "    \n",
    "로지스틱 회귀모델을 사용하여 loading, measurement_0~17과 na_1, na_2를 입력 변수로 하여 prob3_train을 학습한다. \n",
    "\n",
    "로지스틱 회귀모델을 prob3_test로 성능을 측정한 값을 A라고 한다.\n",
    "\n",
    "입력 변수: loading, measurement_0~17, na_1, na_2\n",
    "\n",
    "대상 변수: failure\n",
    "\n",
    "성능 지표: AUC(area under of ROC curve)\n",
    "\n",
    "---\n",
    "\n",
    "**함수 가이드**\n",
    "\n",
    " sklearn.linear_model.LogisticRegression, solver='lbfgs', 문제 지시사항 외 Default 값 사용\n",
    " \n",
    " sklearn.metrics.roc_auc_score\n",
    " \n",
    "---"
   ]
  },
  {
   "cell_type": "code",
   "execution_count": 168,
   "id": "fb86e3fd",
   "metadata": {},
   "outputs": [
    {
     "data": {
      "text/plain": [
       "0.5952982435574312"
      ]
     },
     "execution_count": 168,
     "metadata": {},
     "output_type": "execute_result"
    }
   ],
   "source": [
    "from sklearn.metrics import roc_auc_score, accuracy_score\n",
    "from sklearn.linear_model import LogisticRegression\n",
    "X_lr = ['loading'] + ['measurement_{}'.format(i) for i in range(0, 18)] + ['na_1', 'na_2']\n",
    "clf_lr = LogisticRegression(solver='lbfgs')\n",
    "clf_lr.fit(df_prob3_train[X_lr], df_prob3_train['failure'])\n",
    "(\n",
    "    roc_auc_score(df_prob3_train['failure'], clf_lr.predict_proba(df_prob3_train[X_lr])[:, 1]),\n",
    "    roc_auc_score(df_prob3_train['failure'], clf_lr.decision_function(df_prob3_train[X_lr]))\n",
    ")"
   ]
  },
  {
   "cell_type": "code",
   "execution_count": 172,
   "id": "40b1ac3a",
   "metadata": {},
   "outputs": [
    {
     "data": {
      "text/plain": [
       "0.5792951262053387"
      ]
     },
     "execution_count": 172,
     "metadata": {},
     "output_type": "execute_result"
    }
   ],
   "source": [
    "A = roc_auc_score(df_prob3_test['failure'], clf_lr.predict_proba(df_prob3_test[X_lr])[:, 1])\n",
    "A"
   ]
  },
  {
   "cell_type": "code",
   "execution_count": 160,
   "id": "88ac95a7",
   "metadata": {},
   "outputs": [
    {
     "data": {
      "text/plain": [
       "<AxesSubplot:xlabel='loading'>"
      ]
     },
     "execution_count": 160,
     "metadata": {},
     "output_type": "execute_result"
    },
    {
     "data": {
      "image/png": "[encoded data removed]",
      "text/plain": [
       "<Figure size 640x480 with 2 Axes>"
      ]
     },
     "metadata": {},
     "output_type": "display_data"
    }
   ],
   "source": [
    "sns.histplot(data=df_prob3_train, x = 'loading')\n",
    "s_qmean = df_prob3_train.groupby(pd.cut(df_prob3_train['loading'], bins=100))['failure'].mean()\n",
    "sns.scatterplot(\n",
    "    x=s_qmean.index.map(lambda x: (x.left + x.right) / 2), \n",
    "    y=s_qmean.values, ax=plt.gca().twinx(), color='orange')"
   ]
  },
  {
   "cell_type": "code",
   "execution_count": 161,
   "id": "af667b2f",
   "metadata": {},
   "outputs": [
    {
     "data": {
      "text/plain": [
       "0.5886355699157924"
      ]
     },
     "execution_count": 161,
     "metadata": {},
     "output_type": "execute_result"
    }
   ],
   "source": [
    "roc_auc_score(df_prob3_train['failure'], df_prob3_train['loading'])"
   ]
  },
  {
   "cell_type": "code",
   "execution_count": 167,
   "id": "e8993b49",
   "metadata": {},
   "outputs": [
    {
     "data": {
      "image/png": "[encoded data removed]",
      "text/plain": [
       "<Figure size 500x500 with 1 Axes>"
      ]
     },
     "metadata": {},
     "output_type": "display_data"
    }
   ],
   "source": [
    "# ROC curve 그리기\n",
    "\n",
    "target ='failure'\n",
    "X_cols = X_lr\n",
    "df_roc = pd.DataFrame({'prob': clf_lr.predict_proba(df_prob3_test[X_cols])[:, 1],\n",
    " 'label': df_prob3_test[target]})\n",
    "df_roc.sort_values('prob', ascending=False, inplace=True) # Positive 확률에 따른 False Positive 수를 구하기 위해 정렬\n",
    "df_roc['fp'] = df_roc['label'].cumsum() # Positive 확률까지의 누적 False Positive 수\n",
    "df_roc = df_roc['fp'].value_counts().sort_index().cumsum().reset_index() # False Positive에 따른 True Positive 수를 구한다.\n",
    "df_roc.columns = ['tp', 'fp']\n",
    "df_roc['fp'] = df_roc['fp'].shift(1).fillna(0) # shift를 해야만 False Positive 따른 True Positive 수가 맞춰진다.\n",
    "df_roc['tpr'] = df_roc['tp'] / df_roc['tp'].iloc[-1] # Rate로 환산, 마지막 수는 True의 수이다.\n",
    "df_roc['fpr'] = df_roc['fp'] / df_roc['fp'].iloc[-1] # Rate로 환산, 마지막 수는 False의 수이다.\n",
    "\n",
    "plt.figure(figsize=(5, 5))\n",
    "plt.plot(df_roc['fpr'], df_roc['tpr'])\n",
    "plt.fill_between(df_roc['fpr'], df_roc['tpr'], np.zeros_like(df_roc['tpr']), alpha=0.5)\n",
    "plt.plot([0, 1], [0, 1], linestyle='--', color='black')\n",
    "plt.xlabel('False Positive Rate')\n",
    "plt.ylabel('True Positive Rate')\n",
    "plt.show()"
   ]
  },
  {
   "cell_type": "markdown",
   "id": "7cba372a",
   "metadata": {},
   "source": [
    "## 단계 3-5\n",
    "\n",
    "loading, measurement_0 ~ 17, na_1, na_2를 후보 입력 변수로 한다. \n",
    "\n",
    "전진 선택법을 사용하여 이 후보 입력 변수 중에서 최적의 성능을 보이는 입력 변수의 조합을 찾는다. \n",
    "\n",
    "전진 선택법의 선택 기준은 prob3_train을 대상으로 5겹 층화교차검증(5-Fold stratified cross validation)을 하고 \n",
    "\n",
    "겹외(OOF, Out-Of Fold) 성능의 평균값으로 한다. 전진 선택 과정에서 선택했던 변수를 제외하지 않는다. \n",
    "\n",
    "입력 변수: 본 단계 요건 참고\n",
    "\n",
    "대상 변수: failure \n",
    "\n",
    "성능 지표: AUC(area under of ROC curve)\n",
    "\n",
    "---\n",
    "**함수가이드**\n",
    "\n",
    "mlxtend.feature_selection.SequentialFeatureSelector\n",
    "\n",
    "sklearn.linear_model.LogisticRegression, solver='lbfgs'\n",
    "\n",
    "sklearn.metrics.roc_auc_score\n",
    "\n",
    "sklearn.model_selection.StratifiedKFold, random_state=123, shuffle=True\n",
    "\n",
    "문제 지시사항 외 Default 값 사용\n",
    "\n",
    "---"
   ]
  },
  {
   "cell_type": "code",
   "execution_count": 177,
   "id": "9713233f",
   "metadata": {},
   "outputs": [
    {
     "data": {
      "text/plain": [
       "SequentialFeatureSelector(clone_estimator=True,\n",
       "                          cv=StratifiedKFold(n_splits=5, random_state=123, shuffle=True),\n",
       "                          estimator=LogisticRegression(C=1.0, class_weight=None,\n",
       "                                                       dual=False,\n",
       "                                                       fit_intercept=True,\n",
       "                                                       intercept_scaling=1,\n",
       "                                                       l1_ratio=None,\n",
       "                                                       max_iter=100,\n",
       "                                                       multi_class='warn',\n",
       "                                                       n_jobs=None,\n",
       "                                                       penalty='l2',\n",
       "                                                       random_state=None,\n",
       "                                                       solver='lbfgs',\n",
       "                                                       tol=0.0001, verbose=0,\n",
       "                                                       warm_start=False),\n",
       "                          floating=False, forward=True, k_features='best',\n",
       "                          n_jobs=1, pre_dispatch='2*n_jobs', scoring='roc_auc',\n",
       "                          verbose=0)"
      ]
     },
     "execution_count": 177,
     "metadata": {},
     "output_type": "execute_result"
    }
   ],
   "source": [
    "from mlxtend.feature_selection import SequentialFeatureSelector\n",
    "from sklearn.linear_model import LogisticRegression\n",
    "from sklearn.model_selection import StratifiedKFold\n",
    "\n",
    "\n",
    "sfs = SequentialFeatureSelector(\n",
    "    estimator = LogisticRegression(solver='lbfgs'),\n",
    "    k_features=\"best\", # 이 후보 입력 변수 중에서 최적의 성능을 보이는 입력 변수의 조합을 찾는다. \n",
    "    forward=True, # 전진 선택법을 사용하여 \n",
    "    floating=False, # 전진 선택 과정에서 선택했던 변수를 제외하지 않는다. \n",
    "    scoring='roc_auc', \n",
    "    cv=StratifiedKFold(n_splits=5, random_state=123, shuffle=True)# 5겹 층화교차검증(5-Fold stratified cross validation)\n",
    ")\n",
    "X_sfs = ['loading'] + ['measurement_{}'.format(i) for i in range(0, 18)] + ['na_1', 'na_2']\n",
    "sfs.fit(df_prob3_train[X_sfs], df_prob3_train['failure'])"
   ]
  },
  {
   "cell_type": "code",
   "execution_count": 182,
   "id": "04d2846c",
   "metadata": {},
   "outputs": [
    {
     "data": {
      "text/plain": [
       "['loading',\n",
       " 'measurement_1',\n",
       " 'measurement_4',\n",
       " 'measurement_14',\n",
       " 'measurement_17',\n",
       " 'na_1']"
      ]
     },
     "execution_count": 182,
     "metadata": {},
     "output_type": "execute_result"
    }
   ],
   "source": [
    "X_sfs_best = list(sfs.k_feature_names_)\n",
    "X_sfs_best"
   ]
  },
  {
   "cell_type": "markdown",
   "id": "2e7c6893",
   "metadata": {},
   "source": [
    "## 단계 3-6\n",
    "\n",
    "단계 3-5에서 찾은 최적의 입력 변수 조합으로 로지스틱 회귀모델을 사용하여 prob3_train을 학습하고 \n",
    "\n",
    "prob3_test로 성능을 측정한 값을 B라고 한다.\n",
    "\n",
    "입력 변수: **단계 3-5**에서 도출한 최적의 입력 변수 조합\n",
    "\n",
    "대상 변수: failure\n",
    "\n",
    "성능 지표: AUC(area under of ROC curve)\n",
    "\n",
    "---\n",
    "**함수 가이드**\n",
    "\n",
    "sklearn.linear_model.LogisticRegression, solver='lbfgs'\n",
    "\n",
    "sklearn.metrics.roc_auc_score\n",
    "\n",
    "문제 지시사항 외 Default 값 사용\n",
    "\n",
    "---"
   ]
  },
  {
   "cell_type": "code",
   "execution_count": 183,
   "id": "8d96e152",
   "metadata": {},
   "outputs": [
    {
     "data": {
      "text/plain": [
       "(0.5936682060775388,)"
      ]
     },
     "execution_count": 183,
     "metadata": {},
     "output_type": "execute_result"
    }
   ],
   "source": [
    "from sklearn.metrics import roc_auc_score, accuracy_score\n",
    "from sklearn.linear_model import LogisticRegression\n",
    "\n",
    "clf_lr = LogisticRegression(solver='lbfgs')\n",
    "clf_lr.fit(df_prob3_train[X_sfs_best], df_prob3_train['failure'])\n",
    "roc_auc_score(df_prob3_train['failure'], clf_lr.predict_proba(df_prob3_train[X_sfs_best])[:, 1])"
   ]
  },
  {
   "cell_type": "code",
   "execution_count": 185,
   "id": "a529d75d",
   "metadata": {},
   "outputs": [
    {
     "data": {
      "text/plain": [
       "0.5838326230092876"
      ]
     },
     "execution_count": 185,
     "metadata": {},
     "output_type": "execute_result"
    }
   ],
   "source": [
    "B = roc_auc_score(df_prob3_test['failure'], clf_lr.predict_proba(df_prob3_test[X_sfs_best])[:, 1])\n",
    "B"
   ]
  },
  {
   "cell_type": "code",
   "execution_count": 186,
   "id": "614e0f75",
   "metadata": {},
   "outputs": [
    {
     "data": {
      "text/plain": [
       "(0.5792951262053387, 0.5838326230092876, -0.004537496803948882)"
      ]
     },
     "execution_count": 186,
     "metadata": {},
     "output_type": "execute_result"
    }
   ],
   "source": [
    "A, B, A - B"
   ]
  },
  {
   "cell_type": "markdown",
   "id": "fac40eec",
   "metadata": {},
   "source": [
    "A-B값을 소수점 넷째 자리에서 반올림하여 셋째 자리까지 출력하시오\n",
    "\n",
    "**-0.005**"
   ]
  },
  {
   "cell_type": "markdown",
   "id": "4ed67461",
   "metadata": {},
   "source": [
    "# 쉬는 시간: ~ 14:22\n",
    "\n",
    "# 문제 4\n",
    "\n",
    "차원 축소 기법을 통한 데이터의 특성과 failure 분류 성능을 높힐 만한 요소를 살펴 본다. \n",
    "\n",
    "첫째로, loading을 제외하고, measurement_0 ~ 17을 입력으로 failure를 대상 변수로 Linear Discrimant Analysis(LDA) 모델을 만든다. \n",
    "\n",
    "범주가 두 개인 failure를 분류한다는 점에서 LDA 모델은 measurement_0 ~ 17를 한 개의 경계점으로 \n",
    "\n",
    "failure를 최대한 정확하게 구분하도록 하나의 연속형 변수로 변환한다. \n",
    "\n",
    "실험 대상의 내구력을 나타낸다고 할 수 있는 LDA 변환값과 \n",
    "\n",
    "실험에서 스프링에 가한 부하(loading)와 상관도를 측정하여, \n",
    "\n",
    "스프링에 따라 부하(loading)를 조정한 정도를 살펴본다.\n",
    "\n",
    "둘째로, PCA를 사용하여 차원 감소로 failure 분류 성능에 얼마나 효과가 있을지 살펴본다.\n",
    "\n",
    "문제3에서 사용했던, 전처리(loading 결측치 처리와 표준화 과정을 거친) 과정을 거친 prob3_train과 prob3_test를 사용한다.\n"
   ]
  },
  {
   "cell_type": "code",
   "execution_count": null,
   "id": "05ee8e76",
   "metadata": {},
   "outputs": [],
   "source": []
  },
  {
   "cell_type": "markdown",
   "id": "3579a749",
   "metadata": {},
   "source": [
    "## 단계 4-1\n",
    "\n",
    "prob3_train에서 measurement_0 ~ 17을 입력으로 failure를 대상 변수로 하여 LDA(Linear Discriminant Analysis) 모델을 학습한다. \n",
    "\n",
    "measurement_0 ~ 17에 대한 LDA의 변환값과 loading과 스피어만 상관도 (spearman correlation)의 p-value를 구하여 A라고 한다.\n",
    "\n",
    "입력 변수] measurement_0 ~ 17 (순서에 유의 하시오)\n",
    "\n",
    "대상 변수] failure\n",
    "\n",
    "---\n",
    "**함수가이드**\n",
    "\n",
    "sklearn.discriminant_analysis 제공 기능 활용\n",
    "\n",
    "scipy.stats.spearmanr\n",
    "\n",
    "문제 지시사항 외 Default 값 사용\n",
    "\n",
    "---"
   ]
  },
  {
   "cell_type": "code",
   "execution_count": null,
   "id": "b6bbc9a0",
   "metadata": {},
   "outputs": [],
   "source": []
  },
  {
   "cell_type": "markdown",
   "id": "1e726a4a",
   "metadata": {},
   "source": [
    "## 단계 4-2\n",
    "\n",
    "prob3_train에서 measurement_0 ~ 17을 대상으로 주성분분석(Principal Component Analysis, PCA) 모델을 학습한다. \n",
    "\n",
    "분산 설명율이 높은 순으로 주성분을 변수명을 pca_0 ~ 17하여 prob3_train에 추가하여 prob4_train을 만든다. \n",
    "\n",
    "prob3_test에 prob3_train를 학습했던 PCA 모델로 동일한 방법으로 pca0 ~17 파생 변수를 추가하여 prob4_test를 만든다.\n",
    "\n",
    "입력 변수] measurement_0 ~ 17 (순서에 유의 하시오)\n",
    "\n",
    "---\n",
    "**함수가이드**\n",
    "\n",
    "sklearn.decomposition.PCA, random_state=123\n",
    "\n",
    "문제 지시사항 외 Default 값 사용\n",
    "\n",
    "---\n"
   ]
  },
  {
   "cell_type": "code",
   "execution_count": null,
   "id": "2934c155",
   "metadata": {},
   "outputs": [],
   "source": []
  },
  {
   "cell_type": "markdown",
   "id": "11d71204",
   "metadata": {},
   "source": [
    "## 단계 4-3\n",
    "\n",
    "초기에 loading을 입력 변수로 하여 prob4_train을 학습하고, prob4_test에 대한 성능을 측정한다.\n",
    "\n",
    "여기에 pca_0에서 pca_17까지 입력 변수를 하나씩 추가 하면서, \n",
    "\n",
    "즉 분산 설명율이 높은 순으로 컴포넌트를 하나씩 추가하여 prob4_train를 학습하고 prob4_test의 성능을 측정 했을 때, \n",
    "\n",
    "최적의 성능을 보인 컴포넌트들의 분산 설명율의 합을 B라고 한다. (만일 없다면 B = 0이다.)\n",
    "\n",
    "입력 변수: 설명 참고\n",
    "\n",
    "대상 변수: failure\n",
    "\n",
    "성능 지표: AUC(area under of ROC curve)\n",
    "\n",
    "---\n",
    "**함수가이드**\n",
    "\n",
    "sklearn.linear_model.LogisticRegression, solver=’lbfgs’\n",
    "\n",
    "---"
   ]
  },
  {
   "cell_type": "code",
   "execution_count": null,
   "id": "3c19ae14",
   "metadata": {},
   "outputs": [],
   "source": []
  },
  {
   "cell_type": "markdown",
   "id": "db7a7e38",
   "metadata": {},
   "source": [
    "A + B를 소수점 셋째 자리에서 반올림하여 둘째 자리까지 구하라.\n",
    "\n",
    "Ex) 12.34"
   ]
  },
  {
   "cell_type": "markdown",
   "id": "86ba3524",
   "metadata": {},
   "source": [
    "# 문제 5\n",
    "\n",
    "랜덤포레스트 분류기(Random-Forest Classifier)의 최적의 하이퍼 파라미터(Hyper-Parameter, 초매개변수)를 탐색하고자 한다.\n",
    "\n",
    "문제3에서 사용했던, 전처리(loading 결측치 처리와 표준화 과정을 거친) 과정을 거친 prob3_train과 prob3_test를 사용한다."
   ]
  },
  {
   "cell_type": "code",
   "execution_count": null,
   "id": "57e99809",
   "metadata": {},
   "outputs": [],
   "source": []
  },
  {
   "cell_type": "markdown",
   "id": "05189b7d",
   "metadata": {},
   "source": [
    "## 단계 5-1\n",
    "\n",
    "sklearn에서 제공하는 랜덤포레스트 분류기(Random-Forest Classifier)의 하이퍼 파라미터 중 \n",
    "\n",
    "n_estimators, max_depth 그리고 min_samples_split의 최적 조합을 탐색한다. \n",
    "\n",
    "탐색 값은 아래에 제공한 하이퍼 파라미터의 모든 조합이다. \n",
    "\n",
    "prob3_train을 대상으로 5-겹 층화교차검증(5-fold stratified cross validation)으로 \n",
    "\n",
    "각각 층의 겹외셋(OOF set, Out-Of-Fold set)의 성능에 대한 평균을 기준으로 하이퍼 파라미터를 선택한다.\n",
    "\n",
    "  - n_estimators: [5, 10, 15]\n",
    "\n",
    "  - max_depth: [5, 6, 7]\n",
    "  \n",
    "  - min_samples_split: [256, 512]\n",
    "\n",
    "Hint] 모든 하이퍼 파라미터의 조합의 수는 18개이다\n",
    "\n",
    "입력 변수: loading, measurement_0 ~ 17, na_1, na_2 (순서에 유의)\n",
    "\n",
    "대상 변수: failure\n",
    "\n",
    "성능 지표: AUC (area under of ROC curve)\n",
    "\n",
    "---\n",
    "**함수가이드**\n",
    "\n",
    "sklearn.ensemble.RandomForestClassifier, random_state=123 \n",
    "\n",
    "itertools.product 필요시 사용\n",
    "\n",
    "sklearn.model_selection.cross_val_score 필요시 사용\n",
    "\n",
    "sklearn.model_selection.StratifiedKFold, random_state=123, shuffle=True\n",
    "\n",
    "sklearn.model_selection.GridSearchCV 필요시 사용\n",
    "\n",
    "---"
   ]
  },
  {
   "cell_type": "code",
   "execution_count": null,
   "id": "6226741f",
   "metadata": {},
   "outputs": [],
   "source": []
  },
  {
   "cell_type": "markdown",
   "id": "eacc40ad",
   "metadata": {},
   "source": [
    "## 단계 5-2\n",
    "\n",
    "단계 5-1에서 구한 최적 하이퍼 파라미터로 설정한 랜덤포레스트 분류기(Random-Forest Classifier)를 사용하여 prob3_train 학습하고, \n",
    "\n",
    "prob3_test로 성능을 측정하여 이 값을 A라고 한다.\n",
    "\n",
    "입력 변수: loading, measurement_0 ~ 17, na_1, na_2 (순서에 유의)\n",
    "\n",
    "대상 변수: failure\n",
    "\n",
    "성능 지표: AUC (area under of ROC curve)\n",
    "\n",
    "---\n",
    "**함수가이드**\n",
    "\n",
    "sklearn.ensemble.RandomForestClassifier, random_state=123 \n",
    "\n",
    "---\n"
   ]
  },
  {
   "cell_type": "code",
   "execution_count": null,
   "id": "1ebecc95",
   "metadata": {},
   "outputs": [],
   "source": []
  },
  {
   "cell_type": "markdown",
   "id": "044dd522",
   "metadata": {},
   "source": [
    "A값을 소수점 넷째 자리에서 반올림하여 3째 자리까지 출력하시오.\n",
    "\n",
    "Ex) 0.123"
   ]
  },
  {
   "cell_type": "code",
   "execution_count": null,
   "id": "0933ca4e",
   "metadata": {},
   "outputs": [],
   "source": []
  }
 ],
 "metadata": {
  "kernelspec": {
   "display_name": "Python 3 (ipykernel)",
   "language": "python",
   "name": "python3"
  },
  "language_info": {
   "codemirror_mode": {
    "name": "ipython",
    "version": 3
   },
   "file_extension": ".py",
   "mimetype": "text/x-python",
   "name": "python",
   "nbconvert_exporter": "python",
   "pygments_lexer": "ipython3",
   "version": "3.7.4"
  }
 },
 "nbformat": 4,
 "nbformat_minor": 5
}
